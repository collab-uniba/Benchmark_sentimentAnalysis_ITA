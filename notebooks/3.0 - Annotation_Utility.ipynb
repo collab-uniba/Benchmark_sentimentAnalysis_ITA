{
 "cells": [
  {
   "cell_type": "markdown",
   "metadata": {},
   "source": [
    "# Annotation analysis\n",
    "Utility functions that support the analysis step of the annotations carried out by the two raters"
   ]
  },
  {
   "cell_type": "code",
   "execution_count": 33,
   "metadata": {},
   "outputs": [],
   "source": [
    "from sklearn.metrics import cohen_kappa_score\n",
    "\n",
    "def annotation_analysis (df1,df2):\n",
    "    df1 = df1.fillna('no')\n",
    "    df2 = df2.fillna('no')\n",
    "    #Positive k\n",
    "    df1_pos = df1['Positive'].to_list()\n",
    "    df2_pos = df2['Positive'].to_list()\n",
    "    print(\"Positive k: \",\"{:.2f}\".format(cohen_kappa_score(df1_pos, df2_pos)))\n",
    "    print(\"Observed Agreement: \",\"{:.2f}\".format(observed_agreement(df1_pos,df2_pos)))\n",
    "    #Positive k\n",
    "    df1_neg = df1['Negative'].to_list()\n",
    "    df2_neg = df2['Negative'].to_list()\n",
    "    print(\"Negative k: \",\"{:.2f}\".format(cohen_kappa_score(df1_neg, df2_neg)))\n",
    "    print(\"Observed Agreement: \",\"{:.2f}\".format(observed_agreement(df1_neg,df2_neg)))\n",
    "    #Positive k\n",
    "    df1_neut = df1['Neutral'].to_list()\n",
    "    df2_neut = df2['Neutral'].to_list()\n",
    "    print(\"Neutral k: \",\"{:.2f}\".format(cohen_kappa_score(df1_neut, df2_neut)))\n",
    "    print(\"Observed Agreement: \",\"{:.2f}\".format(observed_agreement(df1_neut,df2_neut)))\n",
    "    #Positive k\n",
    "    df1_ir = df1['Irony'].to_list()\n",
    "    df2_ir = df2['Irony'].to_list()\n",
    "    print(\"Irony k: \",\"{:.2f}\".format(cohen_kappa_score(df1_ir, df2_ir)))\n",
    "    print(\"Observed Agreement: \",\"{:.2f}\".format(observed_agreement(df1_ir,df2_ir)))\n",
    "\n",
    "def observed_agreement (df1,df2):\n",
    "    data = {'Rater#1': df1,'Rater#2': df2}\n",
    "    df = pd.DataFrame(data, columns=['Rater#1','Rater#2'])\n",
    "    confusion_matrix = pd.crosstab(df['Rater#1'], df['Rater#2'], rownames=['Rater#1'], colnames=['Rater#2'])\n",
    "    res = (confusion_matrix['no'].iloc[0] + confusion_matrix['yes'].iloc[1]) / (confusion_matrix['no'].iloc[0] + confusion_matrix['yes'].iloc[1] + confusion_matrix['yes'].iloc[0] + confusion_matrix['no'].iloc[1])\n",
    "    return res\n"
   ]
  },
  {
   "cell_type": "markdown",
   "metadata": {},
   "source": [
    "## Annotation - Round 1"
   ]
  },
  {
   "cell_type": "code",
   "execution_count": 1,
   "metadata": {},
   "outputs": [],
   "source": [
    "import pandas as pd\n",
    "\n",
    "rater1_1 = pd.read_csv(\"../data/interim/Annotazione_Rater#1_1.csv\")\n",
    "rater2_1 = pd.read_csv(\"../data/interim/Annotazione_Rater#2_1.csv\")"
   ]
  },
  {
   "cell_type": "code",
   "execution_count": 34,
   "metadata": {},
   "outputs": [
    {
     "name": "stdout",
     "output_type": "stream",
     "text": [
      "Positive k:  0.37\n",
      "Observed Agreement:  0.88\n",
      "Negative k:  0.79\n",
      "Observed Agreement:  0.90\n",
      "Neutral k:  0.79\n",
      "Observed Agreement:  0.89\n",
      "Irony k:  0.65\n",
      "Observed Agreement:  0.88\n"
     ]
    }
   ],
   "source": [
    "annotation_analysis(rater1_1,rater2_1)"
   ]
  },
  {
   "cell_type": "markdown",
   "metadata": {},
   "source": [
    "## Annotation - Round 2"
   ]
  },
  {
   "cell_type": "code",
   "execution_count": 35,
   "metadata": {},
   "outputs": [],
   "source": [
    "rater1_2 = pd.read_csv(\"../data/interim/Annotazione_Rater#1_2.csv\")\n",
    "rater2_2 = pd.read_csv(\"../data/interim/Annotazione_Rater#2_2.csv\")"
   ]
  },
  {
   "cell_type": "code",
   "execution_count": 36,
   "metadata": {},
   "outputs": [
    {
     "name": "stdout",
     "output_type": "stream",
     "text": [
      "Positive k:  0.73\n",
      "Observed Agreement:  0.95\n",
      "Negative k:  0.91\n",
      "Observed Agreement:  0.96\n",
      "Neutral k:  0.87\n",
      "Observed Agreement:  0.94\n",
      "Irony k:  0.83\n",
      "Observed Agreement:  0.94\n"
     ]
    }
   ],
   "source": [
    "annotation_analysis(rater1_2,rater2_2)"
   ]
  },
  {
   "cell_type": "markdown",
   "metadata": {},
   "source": [
    "# Gold Standard\n",
    "**Final_Class** column represents the result of the raters annotation and can assume the following values:\n",
    "- pos: positive tweet\n",
    "- neg: negative tweet\n",
    "- neut: neutral tweet\n",
    "- pos_ir: positive tweet with the presence of irony\n",
    "- neg_ir: negative tweet with the presence of irony\n",
    "- mix: tweet with presence of both positive and negative sentiment\n",
    "\n",
    "From Final_Class derive the columns **Class** and **Irony** which contain respectively the information relating to the sentiment classes (pos, neg, neut, mix) and to the presence of irony (yes, no)"
   ]
  },
  {
   "cell_type": "code",
   "execution_count": 2,
   "metadata": {},
   "outputs": [
    {
     "data": {
      "text/html": [
       "<div>\n",
       "<style scoped>\n",
       "    .dataframe tbody tr th:only-of-type {\n",
       "        vertical-align: middle;\n",
       "    }\n",
       "\n",
       "    .dataframe tbody tr th {\n",
       "        vertical-align: top;\n",
       "    }\n",
       "\n",
       "    .dataframe thead th {\n",
       "        text-align: right;\n",
       "    }\n",
       "</style>\n",
       "<table border=\"1\" class=\"dataframe\">\n",
       "  <thead>\n",
       "    <tr style=\"text-align: right;\">\n",
       "      <th></th>\n",
       "      <th>tweet_id</th>\n",
       "      <th>tweet</th>\n",
       "      <th>Final_Class</th>\n",
       "      <th>Class</th>\n",
       "      <th>Irony</th>\n",
       "    </tr>\n",
       "  </thead>\n",
       "  <tbody>\n",
       "    <tr>\n",
       "      <th>0</th>\n",
       "      <td>1462002288835403777</td>\n",
       "      <td>In arrivo un nuovo #bonus #inps! Scopri chi pu...</td>\n",
       "      <td>pos</td>\n",
       "      <td>pos</td>\n",
       "      <td>no</td>\n",
       "    </tr>\n",
       "    <tr>\n",
       "      <th>1</th>\n",
       "      <td>1354381987507744771</td>\n",
       "      <td>Allora, riepiloghiamo;\\nAi politici la pension...</td>\n",
       "      <td>neg_ir</td>\n",
       "      <td>neg</td>\n",
       "      <td>yes</td>\n",
       "    </tr>\n",
       "    <tr>\n",
       "      <th>2</th>\n",
       "      <td>1454050817821003783</td>\n",
       "      <td>Caro @INPS_it e cari @Europarl_IT  fate bene i...</td>\n",
       "      <td>neg_ir</td>\n",
       "      <td>neg</td>\n",
       "      <td>yes</td>\n",
       "    </tr>\n",
       "    <tr>\n",
       "      <th>3</th>\n",
       "      <td>1393675898960982016</td>\n",
       "      <td>FOTO - A #napoli, dopo l'apertura di una #vora...</td>\n",
       "      <td>neut</td>\n",
       "      <td>neut</td>\n",
       "      <td>no</td>\n",
       "    </tr>\n",
       "    <tr>\n",
       "      <th>4</th>\n",
       "      <td>1417876270705164289</td>\n",
       "      <td>Maxi esercitazione di #protezionecivile. Lo sc...</td>\n",
       "      <td>neut</td>\n",
       "      <td>neut</td>\n",
       "      <td>no</td>\n",
       "    </tr>\n",
       "  </tbody>\n",
       "</table>\n",
       "</div>"
      ],
      "text/plain": [
       "              tweet_id                                              tweet  \\\n",
       "0  1462002288835403777  In arrivo un nuovo #bonus #inps! Scopri chi pu...   \n",
       "1  1354381987507744771  Allora, riepiloghiamo;\\nAi politici la pension...   \n",
       "2  1454050817821003783  Caro @INPS_it e cari @Europarl_IT  fate bene i...   \n",
       "3  1393675898960982016  FOTO - A #napoli, dopo l'apertura di una #vora...   \n",
       "4  1417876270705164289  Maxi esercitazione di #protezionecivile. Lo sc...   \n",
       "\n",
       "  Final_Class Class Irony  \n",
       "0         pos   pos    no  \n",
       "1      neg_ir   neg   yes  \n",
       "2      neg_ir   neg   yes  \n",
       "3        neut  neut    no  \n",
       "4        neut  neut    no  "
      ]
     },
     "execution_count": 2,
     "metadata": {},
     "output_type": "execute_result"
    }
   ],
   "source": [
    "g_s = pd.read_csv(\"../data/processed/Gold_Standard.csv\")\n",
    "g_s.head()"
   ]
  }
 ],
 "metadata": {
  "interpreter": {
   "hash": "03f8b8a1f797741164ec3397284a862f699c996acdec68272bf499e5af8d4843"
  },
  "kernelspec": {
   "display_name": "Python 3.9.7 ('sa')",
   "language": "python",
   "name": "python3"
  },
  "language_info": {
   "codemirror_mode": {
    "name": "ipython",
    "version": 3
   },
   "file_extension": ".py",
   "mimetype": "text/x-python",
   "name": "python",
   "nbconvert_exporter": "python",
   "pygments_lexer": "ipython3",
   "version": "3.9.7"
  },
  "orig_nbformat": 4
 },
 "nbformat": 4,
 "nbformat_minor": 2
}
