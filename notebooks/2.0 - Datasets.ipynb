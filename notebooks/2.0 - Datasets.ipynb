{
 "cells": [
  {
   "cell_type": "markdown",
   "metadata": {},
   "source": [
    "# Datasets processing"
   ]
  },
  {
   "cell_type": "markdown",
   "metadata": {},
   "source": [
    "## Import and preprocessing"
   ]
  },
  {
   "cell_type": "code",
   "execution_count": 1,
   "metadata": {},
   "outputs": [],
   "source": [
    "import pandas as pd\n",
    "pd.set_option('display.max_colwidth', None)\n",
    "import warnings\n",
    "warnings.filterwarnings(\"ignore\")\n",
    "\n",
    "#INPS\n",
    "ht_inps=pd.read_csv('data/raw/Enti/INPS/Hashtags.csv')\n",
    "ht_inps['type'] = 'hashtag'\n",
    "mn_inps=pd.read_csv('data/raw//Enti/INPS/Mentions.csv')\n",
    "mn_inps['type']='mention'\n",
    "\n",
    "#INAIL\n",
    "ht_inail=pd.read_csv('data/raw//Enti/INAIL/Hashtags.csv')\n",
    "ht_inail['type'] = 'hashtag'\n",
    "mn_inail=pd.read_csv('data/raw//Enti/INAIL/Mentions.csv')\n",
    "mn_inail['type']='mention'\n",
    "\n",
    "#Protezione Civile\n",
    "ht_pc=pd.read_csv('data/raw//Enti/Protezione Civile/Hashtags.csv')\n",
    "ht_pc['type'] = 'hashtag'\n",
    "mn_pc=pd.read_csv('data/raw//Enti/Protezione Civile/Mentions.csv')\n",
    "mn_pc['type']='mention'"
   ]
  },
  {
   "cell_type": "code",
   "execution_count": 2,
   "metadata": {},
   "outputs": [],
   "source": [
    "import numpy as np\n",
    "\n",
    "#INPS\n",
    "#concatenation of hashtags and mentions dataframes indicating the type of tweet in a column\n",
    "frames_inps = [ht_inps, mn_inps]\n",
    "df_inps = pd.concat(frames_inps)\n",
    "#column definition to identify retweets\n",
    "df_inps['retweet'] = np.where(df_inps['tweet'].str.contains('RT @'), True, False)\n",
    "\n",
    "#INAIL\n",
    "#concatenation of hashtags and mentions dataframes indicating the type of tweet in a column\n",
    "frames_inail = [ht_inail, mn_inail]\n",
    "df_inail = pd.concat(frames_inail)\n",
    "#column definition to identify retweets\n",
    "df_inail['retweet'] = np.where(df_inail['tweet'].str.contains('RT @'), True, False)\n",
    "\n",
    "#Protezione Civile\n",
    "#concatenation of hashtags and mentions dataframes indicating the type of tweet in a column\n",
    "frames_pc = [ht_pc, mn_pc]\n",
    "df_pc = pd.concat(frames_pc)\n",
    "#column definition to identify retweets\n",
    "df_pc['retweet'] = np.where(df_pc['tweet'].str.contains('RT @'), True, False)"
   ]
  },
  {
   "cell_type": "code",
   "execution_count": 15,
   "metadata": {},
   "outputs": [],
   "source": [
    "#Dataset infos\n",
    "def get_stats(df):\n",
    "    print(\"Dataset Shape: \",df.shape)\n",
    "    print(\"\\t Mentions - Hashtags\")\n",
    "    print(\"#Mentions:\",df.loc[df['type'] == 'mention'].shape)\n",
    "    print(\"#Hashtags:\",df.loc[df['type'] == 'hashtag'].shape)\n",
    "    print(df['type'].value_counts(normalize=True) * 100)\n",
    "    if \"retweet\" in df:\n",
    "        print(\"\\t Retweet\")\n",
    "        print(\"#Retweet:\",df.loc[df['retweet'] == True].shape)\n",
    "        print(df['retweet'].value_counts(normalize=True) * 100)"
   ]
  },
  {
   "cell_type": "code",
   "execution_count": 16,
   "metadata": {},
   "outputs": [
    {
     "name": "stdout",
     "output_type": "stream",
     "text": [
      "Dataset Shape:  (64373, 13)\n",
      "\t Mentions - Hashtags\n",
      "#Mentions: (36460, 13)\n",
      "#Hashtags: (27913, 13)\n",
      "mention    56.638653\n",
      "hashtag    43.361347\n",
      "Name: type, dtype: float64\n",
      "\t Retweet\n",
      "#Retweet: (25214, 13)\n",
      "False    60.831404\n",
      "True     39.168596\n",
      "Name: retweet, dtype: float64\n"
     ]
    }
   ],
   "source": [
    "get_stats(df_inps)"
   ]
  },
  {
   "cell_type": "code",
   "execution_count": 5,
   "metadata": {},
   "outputs": [
    {
     "data": {
      "text/html": [
       "<div>\n",
       "<style scoped>\n",
       "    .dataframe tbody tr th:only-of-type {\n",
       "        vertical-align: middle;\n",
       "    }\n",
       "\n",
       "    .dataframe tbody tr th {\n",
       "        vertical-align: top;\n",
       "    }\n",
       "\n",
       "    .dataframe thead th {\n",
       "        text-align: right;\n",
       "    }\n",
       "</style>\n",
       "<table border=\"1\" class=\"dataframe\">\n",
       "  <thead>\n",
       "    <tr style=\"text-align: right;\">\n",
       "      <th></th>\n",
       "      <th>author id</th>\n",
       "      <th>created_at</th>\n",
       "      <th>geo</th>\n",
       "      <th>tweet_id</th>\n",
       "      <th>lang</th>\n",
       "      <th>like_count</th>\n",
       "      <th>quote_count</th>\n",
       "      <th>reply_count</th>\n",
       "      <th>retweet_count</th>\n",
       "      <th>source</th>\n",
       "      <th>tweet</th>\n",
       "      <th>type</th>\n",
       "      <th>retweet</th>\n",
       "    </tr>\n",
       "  </thead>\n",
       "  <tbody>\n",
       "    <tr>\n",
       "      <th>0</th>\n",
       "      <td>1171862947951534080</td>\n",
       "      <td>2021-01-30 20:44:02+00:00</td>\n",
       "      <td></td>\n",
       "      <td>1355617791865450496</td>\n",
       "      <td>it</td>\n",
       "      <td>0</td>\n",
       "      <td>0</td>\n",
       "      <td>0</td>\n",
       "      <td>6</td>\n",
       "      <td>Twitter for Android</td>\n",
       "      <td>RT @FLEPAR__: 4^ tappa maratona FLEPAR nuovo #sistemapubblico: RiStrutturiamo e RiOrganizziamo le #PA l'occasione del #RecoveryFund\\n“Traghe…</td>\n",
       "      <td>hashtag</td>\n",
       "      <td>True</td>\n",
       "    </tr>\n",
       "    <tr>\n",
       "      <th>1</th>\n",
       "      <td>1171862947951534080</td>\n",
       "      <td>2021-01-30 20:43:51+00:00</td>\n",
       "      <td></td>\n",
       "      <td>1355617747657482242</td>\n",
       "      <td>it</td>\n",
       "      <td>0</td>\n",
       "      <td>0</td>\n",
       "      <td>0</td>\n",
       "      <td>8</td>\n",
       "      <td>Twitter for Android</td>\n",
       "      <td>RT @FLEPAR__: #Covid, Tridico: dall'#Inps prova di efficienza, 15 mln di beneficiari. Lo ha detto al convegno Flepar \"Traghettare il ricamb…</td>\n",
       "      <td>hashtag</td>\n",
       "      <td>True</td>\n",
       "    </tr>\n",
       "    <tr>\n",
       "      <th>2</th>\n",
       "      <td>1171862947951534080</td>\n",
       "      <td>2021-01-30 20:43:37+00:00</td>\n",
       "      <td></td>\n",
       "      <td>1355617686559059971</td>\n",
       "      <td>it</td>\n",
       "      <td>0</td>\n",
       "      <td>0</td>\n",
       "      <td>0</td>\n",
       "      <td>7</td>\n",
       "      <td>Twitter for Android</td>\n",
       "      <td>RT @FLEPAR__: “il problema è che c’è una parte di pensionandi, di lavoratori che si trova in un limbo. In un sistema previdenziale misto: r…</td>\n",
       "      <td>hashtag</td>\n",
       "      <td>True</td>\n",
       "    </tr>\n",
       "    <tr>\n",
       "      <th>3</th>\n",
       "      <td>915658126451494912</td>\n",
       "      <td>2021-01-30 20:24:52+00:00</td>\n",
       "      <td></td>\n",
       "      <td>1355612969942581250</td>\n",
       "      <td>it</td>\n",
       "      <td>0</td>\n",
       "      <td>0</td>\n",
       "      <td>0</td>\n",
       "      <td>0</td>\n",
       "      <td>Twitter for Android</td>\n",
       "      <td>Ho parlato di settori non essenziali...In lockdown tutti lavoravano nell'#Inps,#AgenziaEntrate Scuole   ecc?.fatto solo un es.. https://t.co/8W44EvZaPz</td>\n",
       "      <td>hashtag</td>\n",
       "      <td>False</td>\n",
       "    </tr>\n",
       "    <tr>\n",
       "      <th>4</th>\n",
       "      <td>3025288924</td>\n",
       "      <td>2021-01-30 20:13:25+00:00</td>\n",
       "      <td></td>\n",
       "      <td>1355610087906271232</td>\n",
       "      <td>it</td>\n",
       "      <td>0</td>\n",
       "      <td>0</td>\n",
       "      <td>0</td>\n",
       "      <td>58</td>\n",
       "      <td>Twitter Web App</td>\n",
       "      <td>RT @tetrabondi: Bisognerebbe usare tutte le proprie energie per tentare di vivere al meglio e combattere le proprie patologie. Invece tropp…</td>\n",
       "      <td>hashtag</td>\n",
       "      <td>True</td>\n",
       "    </tr>\n",
       "  </tbody>\n",
       "</table>\n",
       "</div>"
      ],
      "text/plain": [
       "             author id                 created_at geo             tweet_id  \\\n",
       "0  1171862947951534080  2021-01-30 20:44:02+00:00      1355617791865450496   \n",
       "1  1171862947951534080  2021-01-30 20:43:51+00:00      1355617747657482242   \n",
       "2  1171862947951534080  2021-01-30 20:43:37+00:00      1355617686559059971   \n",
       "3   915658126451494912  2021-01-30 20:24:52+00:00      1355612969942581250   \n",
       "4           3025288924  2021-01-30 20:13:25+00:00      1355610087906271232   \n",
       "\n",
       "  lang  like_count  quote_count  reply_count  retweet_count  \\\n",
       "0   it           0            0            0              6   \n",
       "1   it           0            0            0              8   \n",
       "2   it           0            0            0              7   \n",
       "3   it           0            0            0              0   \n",
       "4   it           0            0            0             58   \n",
       "\n",
       "                source  \\\n",
       "0  Twitter for Android   \n",
       "1  Twitter for Android   \n",
       "2  Twitter for Android   \n",
       "3  Twitter for Android   \n",
       "4      Twitter Web App   \n",
       "\n",
       "                                                                                                                                                     tweet  \\\n",
       "0            RT @FLEPAR__: 4^ tappa maratona FLEPAR nuovo #sistemapubblico: RiStrutturiamo e RiOrganizziamo le #PA l'occasione del #RecoveryFund\\n“Traghe…   \n",
       "1             RT @FLEPAR__: #Covid, Tridico: dall'#Inps prova di efficienza, 15 mln di beneficiari. Lo ha detto al convegno Flepar \"Traghettare il ricamb…   \n",
       "2             RT @FLEPAR__: “il problema è che c’è una parte di pensionandi, di lavoratori che si trova in un limbo. In un sistema previdenziale misto: r…   \n",
       "3  Ho parlato di settori non essenziali...In lockdown tutti lavoravano nell'#Inps,#AgenziaEntrate Scuole   ecc?.fatto solo un es.. https://t.co/8W44EvZaPz   \n",
       "4             RT @tetrabondi: Bisognerebbe usare tutte le proprie energie per tentare di vivere al meglio e combattere le proprie patologie. Invece tropp…   \n",
       "\n",
       "      type  retweet  \n",
       "0  hashtag     True  \n",
       "1  hashtag     True  \n",
       "2  hashtag     True  \n",
       "3  hashtag    False  \n",
       "4  hashtag     True  "
      ]
     },
     "execution_count": 5,
     "metadata": {},
     "output_type": "execute_result"
    }
   ],
   "source": [
    "df_inps.head()"
   ]
  },
  {
   "cell_type": "code",
   "execution_count": 17,
   "metadata": {},
   "outputs": [],
   "source": [
    "#Removing retweets and unnecessary columns\n",
    "\n",
    "#INPS\n",
    "df_inps=df_inps.loc[df_inps['retweet'] == False]\n",
    "df_inps=df_inps[['created_at','tweet_id','tweet','type']]\n",
    "\n",
    "#INAIL\n",
    "df_inail=df_inail.loc[df_inail['retweet'] == False]\n",
    "df_inail=df_inail[['created_at','tweet_id','tweet','type']]\n",
    "\n",
    "#Protezione Civile\n",
    "df_pc=df_pc.loc[df_pc['retweet'] == False]\n",
    "df_pc=df_pc[['created_at','tweet_id','tweet','type']]"
   ]
  },
  {
   "cell_type": "code",
   "execution_count": 19,
   "metadata": {},
   "outputs": [
    {
     "name": "stdout",
     "output_type": "stream",
     "text": [
      "Dataset Shape:  (39159, 4)\n",
      "\t Mentions - Hashtags\n",
      "#Mentions: (23133, 4)\n",
      "#Hashtags: (16026, 4)\n",
      "mention    59.074542\n",
      "hashtag    40.925458\n",
      "Name: type, dtype: float64\n"
     ]
    }
   ],
   "source": [
    "get_stats(df_inps)"
   ]
  },
  {
   "cell_type": "markdown",
   "metadata": {},
   "source": [
    "# Silver labelling"
   ]
  },
  {
   "cell_type": "code",
   "execution_count": 21,
   "metadata": {},
   "outputs": [],
   "source": [
    "#Emoji lists\n",
    "positive_emoticons=[\"😀\",\"😃\",\"😄\",\"😁\",\"😆\",\"🤣\",\"😂\",\"🙂\",\"😊\",\"😍\",\"🥰\",\"🤩\",\"☺\",\"🥳\"]\n",
    "negative_emoticons=[\"😒\",\"😔\",\"😟\",\"🙁\",\"☹\",\"😥\",\"😢\",\"😭\",\"😱\",\"😞\",\"😓\",\"😩\",\"😫\",\"😡\",\"😠\",\"🤬\"]"
   ]
  },
  {
   "cell_type": "code",
   "execution_count": 22,
   "metadata": {},
   "outputs": [],
   "source": [
    "#Definition of silver labels based on the presence / absence of emojis within the entire tweet\n",
    "\n",
    "#INPS\n",
    "pos_df_inps = df_inps.loc[df_inps['tweet'].str.contains('|'.join(positive_emoticons))]\n",
    "neg_df_inps = df_inps.loc[df_inps['tweet'].str.contains('|'.join(negative_emoticons))]\n",
    "neutral_df_inps = pd.concat([df_inps, pos_df_inps, neg_df_inps]).drop_duplicates(keep=False)\n",
    "\n",
    "#INAIL\n",
    "pos_df_inail = df_inail.loc[df_inail['tweet'].str.contains('|'.join(positive_emoticons))]\n",
    "neg_df_inail = df_inail.loc[df_inail['tweet'].str.contains('|'.join(negative_emoticons))]\n",
    "neutral_df_inail = pd.concat([df_inail, pos_df_inail, neg_df_inail]).drop_duplicates(keep=False)\n",
    "\n",
    "#Protezione Civile\n",
    "pos_df_pc = df_pc.loc[df_pc['tweet'].str.contains('|'.join(positive_emoticons))]\n",
    "neg_df_pc = df_pc.loc[df_pc['tweet'].str.contains('|'.join(negative_emoticons))]\n",
    "neutral_df_pc = pd.concat([df_pc, pos_df_pc, neg_df_pc]).drop_duplicates(keep=False)"
   ]
  },
  {
   "cell_type": "code",
   "execution_count": 23,
   "metadata": {},
   "outputs": [
    {
     "name": "stdout",
     "output_type": "stream",
     "text": [
      "Dataset Shape:  (15104, 4)\n",
      "\t Mentions - Hashtags\n",
      "#Mentions: (8130, 4)\n",
      "#Hashtags: (6974, 4)\n",
      "mention    53.826801\n",
      "hashtag    46.173199\n",
      "Name: type, dtype: float64\n"
     ]
    }
   ],
   "source": [
    "get_stats(neutral_df_pc)"
   ]
  },
  {
   "cell_type": "code",
   "execution_count": 11,
   "metadata": {},
   "outputs": [],
   "source": [
    "#tweets containing both positive and negative emoticons\n",
    "int_df_inps = pd.merge(pos_df_inps, neg_df_inps, how ='inner')\n",
    "int_df_inail = pd.merge(pos_df_inail, neg_df_inail, how ='inner')\n",
    "int_df_pc = pd.merge(pos_df_pc, neg_df_pc, how ='inner')"
   ]
  },
  {
   "cell_type": "code",
   "execution_count": 12,
   "metadata": {},
   "outputs": [
    {
     "data": {
      "text/plain": [
       "(13, 4)"
      ]
     },
     "execution_count": 12,
     "metadata": {},
     "output_type": "execute_result"
    }
   ],
   "source": [
    "int_df_inps.shape"
   ]
  },
  {
   "cell_type": "code",
   "execution_count": 13,
   "metadata": {},
   "outputs": [],
   "source": [
    "#Sampling neutral datasets to balance classes\n",
    "\n",
    "#INPS\n",
    "sample_neutral_df_inps = neutral_df_inps.sample(frac=0.015)\n",
    "\n",
    "#INAIL\n",
    "sample_neutral_df_inail = neutral_df_inail.sample(frac=0.015)\n",
    "\n",
    "#Protezione Civile\n",
    "sample_neutral_df_pc = neutral_df_pc.sample(frac=0.015)"
   ]
  },
  {
   "cell_type": "code",
   "execution_count": 14,
   "metadata": {},
   "outputs": [
    {
     "data": {
      "text/plain": [
       "(22, 4)"
      ]
     },
     "execution_count": 14,
     "metadata": {},
     "output_type": "execute_result"
    }
   ],
   "source": [
    "neg_df_inail.shape"
   ]
  },
  {
   "cell_type": "code",
   "execution_count": 15,
   "metadata": {},
   "outputs": [],
   "source": [
    "#Added polarity and topic column\n",
    "\n",
    "#INPS\n",
    "pos_df_inps['polarity']='positive'\n",
    "pos_df_inps['topic']='inps'\n",
    "neg_df_inps['polarity']='negative'\n",
    "neg_df_inps['topic']='inps'\n",
    "sample_neutral_df_inps['polarity']='neutral'\n",
    "sample_neutral_df_inps['topic']='inps'\n",
    "\n",
    "#INAIL\n",
    "pos_df_inail['polarity']='positive'\n",
    "pos_df_inail['topic']='inail'\n",
    "neg_df_inail['polarity']='negative'\n",
    "neg_df_inail['topic']='inail'\n",
    "sample_neutral_df_inail['polarity']='neutral'\n",
    "sample_neutral_df_inail['topic']='inail'\n",
    "\n",
    "#Protezione civile\n",
    "pos_df_pc['polarity']='positive'\n",
    "pos_df_pc['topic']='pc'\n",
    "neg_df_pc['polarity']='negative'\n",
    "neg_df_pc['topic']='pc'\n",
    "sample_neutral_df_pc['polarity']='neutral'\n",
    "sample_neutral_df_pc['topic']='pc'"
   ]
  },
  {
   "cell_type": "code",
   "execution_count": 18,
   "metadata": {},
   "outputs": [
    {
     "data": {
      "text/html": [
       "<div>\n",
       "<style scoped>\n",
       "    .dataframe tbody tr th:only-of-type {\n",
       "        vertical-align: middle;\n",
       "    }\n",
       "\n",
       "    .dataframe tbody tr th {\n",
       "        vertical-align: top;\n",
       "    }\n",
       "\n",
       "    .dataframe thead th {\n",
       "        text-align: right;\n",
       "    }\n",
       "</style>\n",
       "<table border=\"1\" class=\"dataframe\">\n",
       "  <thead>\n",
       "    <tr style=\"text-align: right;\">\n",
       "      <th></th>\n",
       "      <th>created_at</th>\n",
       "      <th>tweet_id</th>\n",
       "      <th>tweet</th>\n",
       "      <th>type</th>\n",
       "      <th>polarity</th>\n",
       "      <th>topic</th>\n",
       "    </tr>\n",
       "  </thead>\n",
       "  <tbody>\n",
       "    <tr>\n",
       "      <th>1266</th>\n",
       "      <td>2021-01-25 07:41:19+00:00</td>\n",
       "      <td>1353608875103166476</td>\n",
       "      <td>#INPS i conti in rosso ma #tridico si è aumentato lo stipendio,se così fosse scoppierebbe la guerra civile prima di scrivere cazzate pensateci bene @Affaritaliani 🤣😂😂 \\nInps, scatta l'allarme rosso.\"Buco da 16 miliardi, le pensioni sono a rischio\" https://t.co/uJue2EjReB</td>\n",
       "      <td>hashtag</td>\n",
       "      <td>positive</td>\n",
       "      <td>inps</td>\n",
       "    </tr>\n",
       "    <tr>\n",
       "      <th>2359</th>\n",
       "      <td>2021-01-16 14:43:02+00:00</td>\n",
       "      <td>1350453512510070786</td>\n",
       "      <td>Il \"grande potere\" del mullet. \\nFinalmente l' nnovazione sbarca anche all' #INPS 😆 https://t.co/Ir6RBo24Sq</td>\n",
       "      <td>hashtag</td>\n",
       "      <td>positive</td>\n",
       "      <td>inps</td>\n",
       "    </tr>\n",
       "    <tr>\n",
       "      <th>2454</th>\n",
       "      <td>2021-01-14 20:57:42+00:00</td>\n",
       "      <td>1349823027593306122</td>\n",
       "      <td>Come il sito #inps di #Tridico nel \"clickday\"? 😂 https://t.co/xFdP4Jkhdj</td>\n",
       "      <td>hashtag</td>\n",
       "      <td>positive</td>\n",
       "      <td>inps</td>\n",
       "    </tr>\n",
       "    <tr>\n",
       "      <th>2467</th>\n",
       "      <td>2021-01-14 15:21:59+00:00</td>\n",
       "      <td>1349738539357900804</td>\n",
       "      <td>@borghi_claudio Ma sono gli stessi che violarono i server #inps nel #clickday? 😁🤭</td>\n",
       "      <td>hashtag</td>\n",
       "      <td>positive</td>\n",
       "      <td>inps</td>\n",
       "    </tr>\n",
       "    <tr>\n",
       "      <th>2471</th>\n",
       "      <td>2021-01-14 13:23:11+00:00</td>\n",
       "      <td>1349708643248308228</td>\n",
       "      <td>@INPS_it Buongiorno, ho presentato domanda per il ristori ter il 14/12/2020.. ancora in ATTESA DI ESITO. A quando novità? grazie 🙂 @INPS_it #INPS #BONUS #ristori #ter</td>\n",
       "      <td>hashtag</td>\n",
       "      <td>positive</td>\n",
       "      <td>inps</td>\n",
       "    </tr>\n",
       "  </tbody>\n",
       "</table>\n",
       "</div>"
      ],
      "text/plain": [
       "                     created_at             tweet_id  \\\n",
       "1266  2021-01-25 07:41:19+00:00  1353608875103166476   \n",
       "2359  2021-01-16 14:43:02+00:00  1350453512510070786   \n",
       "2454  2021-01-14 20:57:42+00:00  1349823027593306122   \n",
       "2467  2021-01-14 15:21:59+00:00  1349738539357900804   \n",
       "2471  2021-01-14 13:23:11+00:00  1349708643248308228   \n",
       "\n",
       "                                                                                                                                                                                                                                                                                tweet  \\\n",
       "1266  #INPS i conti in rosso ma #tridico si è aumentato lo stipendio,se così fosse scoppierebbe la guerra civile prima di scrivere cazzate pensateci bene @Affaritaliani 🤣😂😂 \\nInps, scatta l'allarme rosso.\"Buco da 16 miliardi, le pensioni sono a rischio\" https://t.co/uJue2EjReB   \n",
       "2359                                                                                                                                                                      Il \"grande potere\" del mullet. \\nFinalmente l' nnovazione sbarca anche all' #INPS 😆 https://t.co/Ir6RBo24Sq   \n",
       "2454                                                                                                                                                                                                         Come il sito #inps di #Tridico nel \"clickday\"? 😂 https://t.co/xFdP4Jkhdj   \n",
       "2467                                                                                                                                                                                                @borghi_claudio Ma sono gli stessi che violarono i server #inps nel #clickday? 😁🤭   \n",
       "2471                                                                                                           @INPS_it Buongiorno, ho presentato domanda per il ristori ter il 14/12/2020.. ancora in ATTESA DI ESITO. A quando novità? grazie 🙂 @INPS_it #INPS #BONUS #ristori #ter   \n",
       "\n",
       "         type  polarity topic  \n",
       "1266  hashtag  positive  inps  \n",
       "2359  hashtag  positive  inps  \n",
       "2454  hashtag  positive  inps  \n",
       "2467  hashtag  positive  inps  \n",
       "2471  hashtag  positive  inps  "
      ]
     },
     "execution_count": 18,
     "metadata": {},
     "output_type": "execute_result"
    }
   ],
   "source": [
    "#concatenation of all dataframes\n",
    "df_total = pd.concat([pos_df_inps, pos_df_inail, pos_df_pc,neg_df_inps,neg_df_inail,neg_df_pc,sample_neutral_df_inps,sample_neutral_df_inail,sample_neutral_df_pc])\n",
    "df_total.head()"
   ]
  },
  {
   "cell_type": "code",
   "execution_count": 19,
   "metadata": {},
   "outputs": [],
   "source": [
    "#Dataset shuffling\n",
    "df_total_shuffle = df_total.sample(frac=1)\n",
    "#Duplicate removal\n",
    "df_total_shuffle = df_total_shuffle.drop_duplicates(keep='first',subset=['tweet_id'])"
   ]
  },
  {
   "cell_type": "code",
   "execution_count": null,
   "metadata": {},
   "outputs": [],
   "source": [
    "#First round annotation file\n",
    "ann_1 = df_total_shuffle.sample(n=322,random_state=1)\n",
    "ann_1.to_csv(\"Annotazione_1.csv\")"
   ]
  },
  {
   "cell_type": "code",
   "execution_count": null,
   "metadata": {},
   "outputs": [],
   "source": [
    "#Second round annotation file\n",
    "ann_2 = pd.concat([df_total_shuffle,ann_1]).drop_duplicates(keep=False,subset=['tweet_id'])\n",
    "ann_2.to_csv(\"Annotazione_2\")"
   ]
  }
 ],
 "metadata": {
  "interpreter": {
   "hash": "03f8b8a1f797741164ec3397284a862f699c996acdec68272bf499e5af8d4843"
  },
  "kernelspec": {
   "display_name": "Python 3.9.7 ('sa')",
   "language": "python",
   "name": "python3"
  },
  "language_info": {
   "codemirror_mode": {
    "name": "ipython",
    "version": 3
   },
   "file_extension": ".py",
   "mimetype": "text/x-python",
   "name": "python",
   "nbconvert_exporter": "python",
   "pygments_lexer": "ipython3",
   "version": "3.9.7"
  },
  "orig_nbformat": 4
 },
 "nbformat": 4,
 "nbformat_minor": 2
}
