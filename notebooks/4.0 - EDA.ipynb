{
 "cells": [
  {
   "cell_type": "markdown",
   "metadata": {},
   "source": [
    "# Exploratory Data Analysis"
   ]
  },
  {
   "cell_type": "markdown",
   "metadata": {},
   "source": [
    "## Importing and preprocessing"
   ]
  },
  {
   "cell_type": "code",
   "execution_count": 177,
   "metadata": {},
   "outputs": [],
   "source": [
    "import pandas as pd\n",
    "\n",
    "#Final annotation dataset\n",
    "af = pd.read_csv(\"data/interim/Annotazione_Finale.csv\")"
   ]
  },
  {
   "cell_type": "code",
   "execution_count": 178,
   "metadata": {},
   "outputs": [
    {
     "data": {
      "text/html": [
       "<div>\n",
       "<style scoped>\n",
       "    .dataframe tbody tr th:only-of-type {\n",
       "        vertical-align: middle;\n",
       "    }\n",
       "\n",
       "    .dataframe tbody tr th {\n",
       "        vertical-align: top;\n",
       "    }\n",
       "\n",
       "    .dataframe thead th {\n",
       "        text-align: right;\n",
       "    }\n",
       "</style>\n",
       "<table border=\"1\" class=\"dataframe\">\n",
       "  <thead>\n",
       "    <tr style=\"text-align: right;\">\n",
       "      <th></th>\n",
       "      <th>tweet_id</th>\n",
       "      <th>tweet</th>\n",
       "      <th>Final_Class</th>\n",
       "      <th>Class</th>\n",
       "      <th>Irony</th>\n",
       "    </tr>\n",
       "  </thead>\n",
       "  <tbody>\n",
       "    <tr>\n",
       "      <th>0</th>\n",
       "      <td>1462002288835403777</td>\n",
       "      <td>In arrivo un nuovo #bonus #inps! Scopri chi pu...</td>\n",
       "      <td>pos</td>\n",
       "      <td>pos</td>\n",
       "      <td>no</td>\n",
       "    </tr>\n",
       "    <tr>\n",
       "      <th>1</th>\n",
       "      <td>1354381987507744771</td>\n",
       "      <td>Allora, riepiloghiamo;\\nAi politici la pension...</td>\n",
       "      <td>neg_ir</td>\n",
       "      <td>neg</td>\n",
       "      <td>yes</td>\n",
       "    </tr>\n",
       "    <tr>\n",
       "      <th>2</th>\n",
       "      <td>1454050817821003783</td>\n",
       "      <td>Caro @INPS_it e cari @Europarl_IT  fate bene i...</td>\n",
       "      <td>neg_ir</td>\n",
       "      <td>neg</td>\n",
       "      <td>yes</td>\n",
       "    </tr>\n",
       "    <tr>\n",
       "      <th>3</th>\n",
       "      <td>1393675898960982016</td>\n",
       "      <td>FOTO - A #napoli, dopo l'apertura di una #vora...</td>\n",
       "      <td>neut</td>\n",
       "      <td>neut</td>\n",
       "      <td>no</td>\n",
       "    </tr>\n",
       "    <tr>\n",
       "      <th>4</th>\n",
       "      <td>1417876270705164289</td>\n",
       "      <td>Maxi esercitazione di #protezionecivile. Lo sc...</td>\n",
       "      <td>neut</td>\n",
       "      <td>neut</td>\n",
       "      <td>no</td>\n",
       "    </tr>\n",
       "  </tbody>\n",
       "</table>\n",
       "</div>"
      ],
      "text/plain": [
       "              tweet_id                                              tweet  \\\n",
       "0  1462002288835403777  In arrivo un nuovo #bonus #inps! Scopri chi pu...   \n",
       "1  1354381987507744771  Allora, riepiloghiamo;\\nAi politici la pension...   \n",
       "2  1454050817821003783  Caro @INPS_it e cari @Europarl_IT  fate bene i...   \n",
       "3  1393675898960982016  FOTO - A #napoli, dopo l'apertura di una #vora...   \n",
       "4  1417876270705164289  Maxi esercitazione di #protezionecivile. Lo sc...   \n",
       "\n",
       "  Final_Class Class Irony  \n",
       "0         pos   pos    no  \n",
       "1      neg_ir   neg   yes  \n",
       "2      neg_ir   neg   yes  \n",
       "3        neut  neut    no  \n",
       "4        neut  neut    no  "
      ]
     },
     "execution_count": 178,
     "metadata": {},
     "output_type": "execute_result"
    }
   ],
   "source": [
    "af.head()"
   ]
  },
  {
   "cell_type": "code",
   "execution_count": 180,
   "metadata": {},
   "outputs": [],
   "source": [
    "#Import annotation files to get other informations\n",
    "ann1 = pd.read_csv(\"data/interim/Annotazione_1.csv\")\n",
    "ann2 = pd.read_csv(\"data/interim/Annotazione_2.csv\")\n",
    "ann = pd.concat([ann1,ann2])\n",
    "\n",
    "#Merging files on tweet_id column\n",
    "gs = ann.merge(af, how='inner', on='tweet_id')\n",
    "gs = gs.drop_duplicates(keep='first',subset=['tweet_id'])"
   ]
  },
  {
   "cell_type": "code",
   "execution_count": 181,
   "metadata": {},
   "outputs": [
    {
     "data": {
      "text/html": [
       "<div>\n",
       "<style scoped>\n",
       "    .dataframe tbody tr th:only-of-type {\n",
       "        vertical-align: middle;\n",
       "    }\n",
       "\n",
       "    .dataframe tbody tr th {\n",
       "        vertical-align: top;\n",
       "    }\n",
       "\n",
       "    .dataframe thead th {\n",
       "        text-align: right;\n",
       "    }\n",
       "</style>\n",
       "<table border=\"1\" class=\"dataframe\">\n",
       "  <thead>\n",
       "    <tr style=\"text-align: right;\">\n",
       "      <th></th>\n",
       "      <th>Unnamed: 0</th>\n",
       "      <th>created_at</th>\n",
       "      <th>tweet_id</th>\n",
       "      <th>tweet_x</th>\n",
       "      <th>type</th>\n",
       "      <th>polarity</th>\n",
       "      <th>topic</th>\n",
       "      <th>tweet_y</th>\n",
       "      <th>Final_Class</th>\n",
       "      <th>Class</th>\n",
       "      <th>Irony</th>\n",
       "    </tr>\n",
       "  </thead>\n",
       "  <tbody>\n",
       "    <tr>\n",
       "      <th>0</th>\n",
       "      <td>24072</td>\n",
       "      <td>2021-11-20 10:18:03+00:00</td>\n",
       "      <td>1462002288835403777</td>\n",
       "      <td>In arrivo un nuovo #bonus #inps! Scopri chi pu...</td>\n",
       "      <td>hashtag</td>\n",
       "      <td>positive</td>\n",
       "      <td>inps</td>\n",
       "      <td>In arrivo un nuovo #bonus #inps! Scopri chi pu...</td>\n",
       "      <td>pos</td>\n",
       "      <td>pos</td>\n",
       "      <td>no</td>\n",
       "    </tr>\n",
       "    <tr>\n",
       "      <th>1</th>\n",
       "      <td>470</td>\n",
       "      <td>2021-01-27 10:53:23+00:00</td>\n",
       "      <td>1354381987507744771</td>\n",
       "      <td>Allora, riepiloghiamo;\\nAi politici la pension...</td>\n",
       "      <td>hashtag</td>\n",
       "      <td>negative</td>\n",
       "      <td>inps</td>\n",
       "      <td>Allora, riepiloghiamo;\\nAi politici la pension...</td>\n",
       "      <td>neg_ir</td>\n",
       "      <td>neg</td>\n",
       "      <td>yes</td>\n",
       "    </tr>\n",
       "    <tr>\n",
       "      <th>2</th>\n",
       "      <td>31123</td>\n",
       "      <td>2021-10-29 11:41:44+00:00</td>\n",
       "      <td>1454050817821003783</td>\n",
       "      <td>Caro @INPS_it e cari @Europarl_IT  fate bene i...</td>\n",
       "      <td>mention</td>\n",
       "      <td>positive</td>\n",
       "      <td>inps</td>\n",
       "      <td>Caro @INPS_it e cari @Europarl_IT  fate bene i...</td>\n",
       "      <td>neg_ir</td>\n",
       "      <td>neg</td>\n",
       "      <td>yes</td>\n",
       "    </tr>\n",
       "    <tr>\n",
       "      <th>3</th>\n",
       "      <td>8077</td>\n",
       "      <td>2021-05-15 21:13:22+00:00</td>\n",
       "      <td>1393675898960982016</td>\n",
       "      <td>FOTO - A #napoli, dopo l'apertura di una #vora...</td>\n",
       "      <td>hashtag</td>\n",
       "      <td>neutral</td>\n",
       "      <td>pc</td>\n",
       "      <td>FOTO - A #napoli, dopo l'apertura di una #vora...</td>\n",
       "      <td>neut</td>\n",
       "      <td>neut</td>\n",
       "      <td>no</td>\n",
       "    </tr>\n",
       "    <tr>\n",
       "      <th>4</th>\n",
       "      <td>16865</td>\n",
       "      <td>2021-07-21 15:57:00+00:00</td>\n",
       "      <td>1417876270705164289</td>\n",
       "      <td>Maxi esercitazione di #protezionecivile. Lo sc...</td>\n",
       "      <td>mention</td>\n",
       "      <td>neutral</td>\n",
       "      <td>pc</td>\n",
       "      <td>Maxi esercitazione di #protezionecivile. Lo sc...</td>\n",
       "      <td>neut</td>\n",
       "      <td>neut</td>\n",
       "      <td>no</td>\n",
       "    </tr>\n",
       "  </tbody>\n",
       "</table>\n",
       "</div>"
      ],
      "text/plain": [
       "   Unnamed: 0                 created_at             tweet_id  \\\n",
       "0       24072  2021-11-20 10:18:03+00:00  1462002288835403777   \n",
       "1         470  2021-01-27 10:53:23+00:00  1354381987507744771   \n",
       "2       31123  2021-10-29 11:41:44+00:00  1454050817821003783   \n",
       "3        8077  2021-05-15 21:13:22+00:00  1393675898960982016   \n",
       "4       16865  2021-07-21 15:57:00+00:00  1417876270705164289   \n",
       "\n",
       "                                             tweet_x     type  polarity topic  \\\n",
       "0  In arrivo un nuovo #bonus #inps! Scopri chi pu...  hashtag  positive  inps   \n",
       "1  Allora, riepiloghiamo;\\nAi politici la pension...  hashtag  negative  inps   \n",
       "2  Caro @INPS_it e cari @Europarl_IT  fate bene i...  mention  positive  inps   \n",
       "3  FOTO - A #napoli, dopo l'apertura di una #vora...  hashtag   neutral    pc   \n",
       "4  Maxi esercitazione di #protezionecivile. Lo sc...  mention   neutral    pc   \n",
       "\n",
       "                                             tweet_y Final_Class Class Irony  \n",
       "0  In arrivo un nuovo #bonus #inps! Scopri chi pu...         pos   pos    no  \n",
       "1  Allora, riepiloghiamo;\\nAi politici la pension...      neg_ir   neg   yes  \n",
       "2  Caro @INPS_it e cari @Europarl_IT  fate bene i...      neg_ir   neg   yes  \n",
       "3  FOTO - A #napoli, dopo l'apertura di una #vora...        neut  neut    no  \n",
       "4  Maxi esercitazione di #protezionecivile. Lo sc...        neut  neut    no  "
      ]
     },
     "execution_count": 181,
     "metadata": {},
     "output_type": "execute_result"
    }
   ],
   "source": [
    "gs.head()"
   ]
  },
  {
   "cell_type": "code",
   "execution_count": 182,
   "metadata": {},
   "outputs": [],
   "source": [
    "gs = gs[['created_at','tweet_id','tweet_x','Final_Class','Class','Irony']]"
   ]
  },
  {
   "cell_type": "code",
   "execution_count": 183,
   "metadata": {},
   "outputs": [
    {
     "data": {
      "text/html": [
       "<div>\n",
       "<style scoped>\n",
       "    .dataframe tbody tr th:only-of-type {\n",
       "        vertical-align: middle;\n",
       "    }\n",
       "\n",
       "    .dataframe tbody tr th {\n",
       "        vertical-align: top;\n",
       "    }\n",
       "\n",
       "    .dataframe thead th {\n",
       "        text-align: right;\n",
       "    }\n",
       "</style>\n",
       "<table border=\"1\" class=\"dataframe\">\n",
       "  <thead>\n",
       "    <tr style=\"text-align: right;\">\n",
       "      <th></th>\n",
       "      <th>created_at</th>\n",
       "      <th>tweet_id</th>\n",
       "      <th>tweet_x</th>\n",
       "      <th>Final_Class</th>\n",
       "      <th>Class</th>\n",
       "      <th>Irony</th>\n",
       "    </tr>\n",
       "  </thead>\n",
       "  <tbody>\n",
       "    <tr>\n",
       "      <th>0</th>\n",
       "      <td>2021-11-20 10:18:03+00:00</td>\n",
       "      <td>1462002288835403777</td>\n",
       "      <td>In arrivo un nuovo #bonus #inps! Scopri chi pu...</td>\n",
       "      <td>pos</td>\n",
       "      <td>pos</td>\n",
       "      <td>no</td>\n",
       "    </tr>\n",
       "    <tr>\n",
       "      <th>1</th>\n",
       "      <td>2021-01-27 10:53:23+00:00</td>\n",
       "      <td>1354381987507744771</td>\n",
       "      <td>Allora, riepiloghiamo;\\nAi politici la pension...</td>\n",
       "      <td>neg_ir</td>\n",
       "      <td>neg</td>\n",
       "      <td>yes</td>\n",
       "    </tr>\n",
       "    <tr>\n",
       "      <th>2</th>\n",
       "      <td>2021-10-29 11:41:44+00:00</td>\n",
       "      <td>1454050817821003783</td>\n",
       "      <td>Caro @INPS_it e cari @Europarl_IT  fate bene i...</td>\n",
       "      <td>neg_ir</td>\n",
       "      <td>neg</td>\n",
       "      <td>yes</td>\n",
       "    </tr>\n",
       "    <tr>\n",
       "      <th>3</th>\n",
       "      <td>2021-05-15 21:13:22+00:00</td>\n",
       "      <td>1393675898960982016</td>\n",
       "      <td>FOTO - A #napoli, dopo l'apertura di una #vora...</td>\n",
       "      <td>neut</td>\n",
       "      <td>neut</td>\n",
       "      <td>no</td>\n",
       "    </tr>\n",
       "    <tr>\n",
       "      <th>4</th>\n",
       "      <td>2021-07-21 15:57:00+00:00</td>\n",
       "      <td>1417876270705164289</td>\n",
       "      <td>Maxi esercitazione di #protezionecivile. Lo sc...</td>\n",
       "      <td>neut</td>\n",
       "      <td>neut</td>\n",
       "      <td>no</td>\n",
       "    </tr>\n",
       "  </tbody>\n",
       "</table>\n",
       "</div>"
      ],
      "text/plain": [
       "                  created_at             tweet_id  \\\n",
       "0  2021-11-20 10:18:03+00:00  1462002288835403777   \n",
       "1  2021-01-27 10:53:23+00:00  1354381987507744771   \n",
       "2  2021-10-29 11:41:44+00:00  1454050817821003783   \n",
       "3  2021-05-15 21:13:22+00:00  1393675898960982016   \n",
       "4  2021-07-21 15:57:00+00:00  1417876270705164289   \n",
       "\n",
       "                                             tweet_x Final_Class Class Irony  \n",
       "0  In arrivo un nuovo #bonus #inps! Scopri chi pu...         pos   pos    no  \n",
       "1  Allora, riepiloghiamo;\\nAi politici la pension...      neg_ir   neg   yes  \n",
       "2  Caro @INPS_it e cari @Europarl_IT  fate bene i...      neg_ir   neg   yes  \n",
       "3  FOTO - A #napoli, dopo l'apertura di una #vora...        neut  neut    no  \n",
       "4  Maxi esercitazione di #protezionecivile. Lo sc...        neut  neut    no  "
      ]
     },
     "execution_count": 183,
     "metadata": {},
     "output_type": "execute_result"
    }
   ],
   "source": [
    "gs.head()"
   ]
  },
  {
   "cell_type": "markdown",
   "metadata": {},
   "source": [
    "## Tweet Cleaning - Feature Engineering"
   ]
  },
  {
   "cell_type": "code",
   "execution_count": 184,
   "metadata": {},
   "outputs": [
    {
     "name": "stderr",
     "output_type": "stream",
     "text": [
      "C:\\Users\\polic\\AppData\\Local\\Temp\\ipykernel_37200\\3847841518.py:18: UserWarning: Pandas doesn't allow columns to be created via a new attribute name - see https://pandas.pydata.org/pandas-docs/stable/indexing.html#attribute-access\n",
      "  gs.tweet = gs.tweet_x.replace(word, \" \"+word+\" \",regex=True)\n"
     ]
    }
   ],
   "source": [
    "from nltk.corpus import stopwords\n",
    "\n",
    "#Keep original tweets\n",
    "gs['tweetOrig']=gs['tweet_x']\n",
    "\n",
    "#Adding a space before and after each stopword in such a way not to consider the case in which the stopword is contained in a word\n",
    "words = set(stopwords.words('italian'))\n",
    "stopwords = [' ' + x + ' ' for x in words]\n",
    "\n",
    "emoticons = [\"😀\",\"😃\",\"😄\",\"😁\",\"😆\",\"🤣\",\"😂\",\"🙂\",\"😊\",\"😍\",\"🥰\",\"🤩\",\"☺\",\"🥳\",\"😒\",\"😔\",\"😟\",\"🙁\",\"☹\",\"😥\",\"😢\",\"😭\",\"😱\",\"😞\",\"😓\",\"😩\",\"😫\",\"😡\",\"😠\",\"🤬\"]\n",
    "\n",
    "gs.tweet_x = gs.tweet_x.replace(\"@[\\w]*[_-]*[\\w]*\",\" \",regex=True)   # tag removal\n",
    "gs.tweet_x = gs.tweet_x.replace(\"https?://[\\w/%-.]*\",\" \",regex=True) # Url removal\n",
    "# Removing everything except the letters of the alphabet and the emoticons\n",
    "gs.tweet_x = gs.tweet_x.replace('[^ a-zA-Zà-ú'\n",
    "                            '\\😀\\😃\\😄\\😁\\😆\\🤣\\😂\\🙂\\😊\\😍\\🥰\\🤩\\☺\\🥳\\😒\\😔\\😟\\🙁\\☹\\😥\\😭\\😱\\😞\\😓\\😩\\😫\\😡\\😠\\🤬]', \" \",regex=True)    \n",
    "for word in emoticons:\n",
    "    gs.tweet = gs.tweet_x.replace(word, \" \"+word+\" \",regex=True) \n",
    "\n",
    "gs.tweet_x = gs.tweet_x.replace('\\s+', ' ',regex=True)# Removal of excess spaces\n",
    "gs.tweet_x = gs.tweet_x.replace('^ ', '', regex=True)# Removing the space at the beginning\n",
    "gs.tweet_x = gs.tweet_x.replace(' $', '', regex=True)# Removing the space at the end\n",
    "gs.tweet_x = gs.tweet_x.apply(lambda x: x.lower())# Making everything in lowercase\n",
    "gs.tweet_x = gs.tweet_x.replace('^', ' ', regex=True) \n",
    "gs.tweet_x = gs.tweet_x.replace('$', ' ', regex=True)\n",
    "\n",
    "for word in stopwords:\n",
    "    gs.tweet = gs.tweet.replace(word, ' ',regex=True)\n",
    "\n",
    "# Removing the spaces at the beginning and at the end of every tweet\n",
    "gs.tweet_x = gs.tweet_x.apply(lambda x: x.strip())\n",
    "# Removing the empty tweets\n",
    "gs = gs[gs.tweet_x != '']"
   ]
  },
  {
   "cell_type": "code",
   "execution_count": 185,
   "metadata": {},
   "outputs": [
    {
     "data": {
      "text/html": [
       "<div>\n",
       "<style scoped>\n",
       "    .dataframe tbody tr th:only-of-type {\n",
       "        vertical-align: middle;\n",
       "    }\n",
       "\n",
       "    .dataframe tbody tr th {\n",
       "        vertical-align: top;\n",
       "    }\n",
       "\n",
       "    .dataframe thead th {\n",
       "        text-align: right;\n",
       "    }\n",
       "</style>\n",
       "<table border=\"1\" class=\"dataframe\">\n",
       "  <thead>\n",
       "    <tr style=\"text-align: right;\">\n",
       "      <th></th>\n",
       "      <th>created_at</th>\n",
       "      <th>tweet_id</th>\n",
       "      <th>tweet_x</th>\n",
       "      <th>Final_Class</th>\n",
       "      <th>Class</th>\n",
       "      <th>Irony</th>\n",
       "      <th>tweetOrig</th>\n",
       "    </tr>\n",
       "  </thead>\n",
       "  <tbody>\n",
       "    <tr>\n",
       "      <th>0</th>\n",
       "      <td>2021-11-20 10:18:03+00:00</td>\n",
       "      <td>1462002288835403777</td>\n",
       "      <td>in arrivo un nuovo bonus inps scopri chi può o...</td>\n",
       "      <td>pos</td>\n",
       "      <td>pos</td>\n",
       "      <td>no</td>\n",
       "      <td>In arrivo un nuovo #bonus #inps! Scopri chi pu...</td>\n",
       "    </tr>\n",
       "    <tr>\n",
       "      <th>1</th>\n",
       "      <td>2021-01-27 10:53:23+00:00</td>\n",
       "      <td>1354381987507744771</td>\n",
       "      <td>allora riepiloghiamo ai politici la pensione d...</td>\n",
       "      <td>neg_ir</td>\n",
       "      <td>neg</td>\n",
       "      <td>yes</td>\n",
       "      <td>Allora, riepiloghiamo;\\nAi politici la pension...</td>\n",
       "    </tr>\n",
       "    <tr>\n",
       "      <th>2</th>\n",
       "      <td>2021-10-29 11:41:44+00:00</td>\n",
       "      <td>1454050817821003783</td>\n",
       "      <td>caro e cari fate bene i vostri conti perché no...</td>\n",
       "      <td>neg_ir</td>\n",
       "      <td>neg</td>\n",
       "      <td>yes</td>\n",
       "      <td>Caro @INPS_it e cari @Europarl_IT  fate bene i...</td>\n",
       "    </tr>\n",
       "    <tr>\n",
       "      <th>3</th>\n",
       "      <td>2021-05-15 21:13:22+00:00</td>\n",
       "      <td>1393675898960982016</td>\n",
       "      <td>foto a napoli dopo l apertura di una voragine ...</td>\n",
       "      <td>neut</td>\n",
       "      <td>neut</td>\n",
       "      <td>no</td>\n",
       "      <td>FOTO - A #napoli, dopo l'apertura di una #vora...</td>\n",
       "    </tr>\n",
       "    <tr>\n",
       "      <th>4</th>\n",
       "      <td>2021-07-21 15:57:00+00:00</td>\n",
       "      <td>1417876270705164289</td>\n",
       "      <td>maxi esercitazione di protezionecivile lo scen...</td>\n",
       "      <td>neut</td>\n",
       "      <td>neut</td>\n",
       "      <td>no</td>\n",
       "      <td>Maxi esercitazione di #protezionecivile. Lo sc...</td>\n",
       "    </tr>\n",
       "  </tbody>\n",
       "</table>\n",
       "</div>"
      ],
      "text/plain": [
       "                  created_at             tweet_id  \\\n",
       "0  2021-11-20 10:18:03+00:00  1462002288835403777   \n",
       "1  2021-01-27 10:53:23+00:00  1354381987507744771   \n",
       "2  2021-10-29 11:41:44+00:00  1454050817821003783   \n",
       "3  2021-05-15 21:13:22+00:00  1393675898960982016   \n",
       "4  2021-07-21 15:57:00+00:00  1417876270705164289   \n",
       "\n",
       "                                             tweet_x Final_Class Class Irony  \\\n",
       "0  in arrivo un nuovo bonus inps scopri chi può o...         pos   pos    no   \n",
       "1  allora riepiloghiamo ai politici la pensione d...      neg_ir   neg   yes   \n",
       "2  caro e cari fate bene i vostri conti perché no...      neg_ir   neg   yes   \n",
       "3  foto a napoli dopo l apertura di una voragine ...        neut  neut    no   \n",
       "4  maxi esercitazione di protezionecivile lo scen...        neut  neut    no   \n",
       "\n",
       "                                           tweetOrig  \n",
       "0  In arrivo un nuovo #bonus #inps! Scopri chi pu...  \n",
       "1  Allora, riepiloghiamo;\\nAi politici la pension...  \n",
       "2  Caro @INPS_it e cari @Europarl_IT  fate bene i...  \n",
       "3  FOTO - A #napoli, dopo l'apertura di una #vora...  \n",
       "4  Maxi esercitazione di #protezionecivile. Lo sc...  "
      ]
     },
     "execution_count": 185,
     "metadata": {},
     "output_type": "execute_result"
    }
   ],
   "source": [
    "gs.head()"
   ]
  },
  {
   "cell_type": "code",
   "execution_count": 186,
   "metadata": {},
   "outputs": [],
   "source": [
    "#Get year, month and day informations from created_at column\n",
    "gs['year'] = gs['created_at'].str[:4]\n",
    "gs['month'] = gs['created_at'].str[5:7]\n",
    "gs['day'] = gs['created_at'].str[8:10]\n",
    "\n",
    "gs = gs.reindex(columns=['tweet_id','year','month','day','tweetOrig','tweet_x','Final_Class','Class','Irony'])"
   ]
  },
  {
   "cell_type": "code",
   "execution_count": 187,
   "metadata": {},
   "outputs": [
    {
     "data": {
      "text/html": [
       "<div>\n",
       "<style scoped>\n",
       "    .dataframe tbody tr th:only-of-type {\n",
       "        vertical-align: middle;\n",
       "    }\n",
       "\n",
       "    .dataframe tbody tr th {\n",
       "        vertical-align: top;\n",
       "    }\n",
       "\n",
       "    .dataframe thead th {\n",
       "        text-align: right;\n",
       "    }\n",
       "</style>\n",
       "<table border=\"1\" class=\"dataframe\">\n",
       "  <thead>\n",
       "    <tr style=\"text-align: right;\">\n",
       "      <th></th>\n",
       "      <th>tweet_id</th>\n",
       "      <th>year</th>\n",
       "      <th>month</th>\n",
       "      <th>day</th>\n",
       "      <th>tweetOrig</th>\n",
       "      <th>tweet_x</th>\n",
       "      <th>Final_Class</th>\n",
       "      <th>Class</th>\n",
       "      <th>Irony</th>\n",
       "    </tr>\n",
       "  </thead>\n",
       "  <tbody>\n",
       "    <tr>\n",
       "      <th>0</th>\n",
       "      <td>1462002288835403777</td>\n",
       "      <td>2021</td>\n",
       "      <td>11</td>\n",
       "      <td>20</td>\n",
       "      <td>In arrivo un nuovo #bonus #inps! Scopri chi pu...</td>\n",
       "      <td>in arrivo un nuovo bonus inps scopri chi può o...</td>\n",
       "      <td>pos</td>\n",
       "      <td>pos</td>\n",
       "      <td>no</td>\n",
       "    </tr>\n",
       "    <tr>\n",
       "      <th>1</th>\n",
       "      <td>1354381987507744771</td>\n",
       "      <td>2021</td>\n",
       "      <td>01</td>\n",
       "      <td>27</td>\n",
       "      <td>Allora, riepiloghiamo;\\nAi politici la pension...</td>\n",
       "      <td>allora riepiloghiamo ai politici la pensione d...</td>\n",
       "      <td>neg_ir</td>\n",
       "      <td>neg</td>\n",
       "      <td>yes</td>\n",
       "    </tr>\n",
       "    <tr>\n",
       "      <th>2</th>\n",
       "      <td>1454050817821003783</td>\n",
       "      <td>2021</td>\n",
       "      <td>10</td>\n",
       "      <td>29</td>\n",
       "      <td>Caro @INPS_it e cari @Europarl_IT  fate bene i...</td>\n",
       "      <td>caro e cari fate bene i vostri conti perché no...</td>\n",
       "      <td>neg_ir</td>\n",
       "      <td>neg</td>\n",
       "      <td>yes</td>\n",
       "    </tr>\n",
       "    <tr>\n",
       "      <th>3</th>\n",
       "      <td>1393675898960982016</td>\n",
       "      <td>2021</td>\n",
       "      <td>05</td>\n",
       "      <td>15</td>\n",
       "      <td>FOTO - A #napoli, dopo l'apertura di una #vora...</td>\n",
       "      <td>foto a napoli dopo l apertura di una voragine ...</td>\n",
       "      <td>neut</td>\n",
       "      <td>neut</td>\n",
       "      <td>no</td>\n",
       "    </tr>\n",
       "    <tr>\n",
       "      <th>4</th>\n",
       "      <td>1417876270705164289</td>\n",
       "      <td>2021</td>\n",
       "      <td>07</td>\n",
       "      <td>21</td>\n",
       "      <td>Maxi esercitazione di #protezionecivile. Lo sc...</td>\n",
       "      <td>maxi esercitazione di protezionecivile lo scen...</td>\n",
       "      <td>neut</td>\n",
       "      <td>neut</td>\n",
       "      <td>no</td>\n",
       "    </tr>\n",
       "  </tbody>\n",
       "</table>\n",
       "</div>"
      ],
      "text/plain": [
       "              tweet_id  year month day  \\\n",
       "0  1462002288835403777  2021    11  20   \n",
       "1  1354381987507744771  2021    01  27   \n",
       "2  1454050817821003783  2021    10  29   \n",
       "3  1393675898960982016  2021    05  15   \n",
       "4  1417876270705164289  2021    07  21   \n",
       "\n",
       "                                           tweetOrig  \\\n",
       "0  In arrivo un nuovo #bonus #inps! Scopri chi pu...   \n",
       "1  Allora, riepiloghiamo;\\nAi politici la pension...   \n",
       "2  Caro @INPS_it e cari @Europarl_IT  fate bene i...   \n",
       "3  FOTO - A #napoli, dopo l'apertura di una #vora...   \n",
       "4  Maxi esercitazione di #protezionecivile. Lo sc...   \n",
       "\n",
       "                                             tweet_x Final_Class Class Irony  \n",
       "0  in arrivo un nuovo bonus inps scopri chi può o...         pos   pos    no  \n",
       "1  allora riepiloghiamo ai politici la pensione d...      neg_ir   neg   yes  \n",
       "2  caro e cari fate bene i vostri conti perché no...      neg_ir   neg   yes  \n",
       "3  foto a napoli dopo l apertura di una voragine ...        neut  neut    no  \n",
       "4  maxi esercitazione di protezionecivile lo scen...        neut  neut    no  "
      ]
     },
     "execution_count": 187,
     "metadata": {},
     "output_type": "execute_result"
    }
   ],
   "source": [
    "gs.head()"
   ]
  },
  {
   "cell_type": "code",
   "execution_count": 188,
   "metadata": {},
   "outputs": [],
   "source": [
    "#Gold Standard dataset\n",
    "gs.to_csv(\"data/processed/Gold_Standard.csv\")"
   ]
  },
  {
   "cell_type": "markdown",
   "metadata": {},
   "source": [
    "# Ngrams\n"
   ]
  },
  {
   "cell_type": "code",
   "execution_count": null,
   "metadata": {},
   "outputs": [],
   "source": [
    "from sklearn.feature_extraction.text import CountVectorizer\n",
    "import string\n",
    "import nltk\n",
    "from nltk.tokenize import word_tokenize\n",
    "nltk.download('stopwords')\n",
    "ADDITIONAL_STOPWORDS = ['La']\n",
    "stopword = nltk.corpus.stopwords.words('italian') + ADDITIONAL_STOPWORDS\n",
    "\n",
    "#Utility to tokenize and remove stopwords from tweets\n",
    "def clean_text(text):\n",
    "    text_lc = \"\".join([word.lower() for word in text if word not in string.punctuation])#punctuation\n",
    "    tokens = word_tokenize(text_lc)#tokenizzazione\n",
    "    text = [word for word in tokens if word not in stopword]#rimozione stopwords\n",
    "    return text"
   ]
  },
  {
   "cell_type": "code",
   "execution_count": 24,
   "metadata": {},
   "outputs": [],
   "source": [
    "#Get ngrams per month\n",
    "def ngrams(df,month,n,top):\n",
    "    words = clean_text((''.join(str(gs['tweet_x'][gs['month']==month].tolist()))))\n",
    "    ng = (pd.Series(nltk.ngrams(words, n)).value_counts())[:top]\n",
    "    return ng "
   ]
  },
  {
   "cell_type": "code",
   "execution_count": 25,
   "metadata": {},
   "outputs": [
    {
     "data": {
      "text/plain": [
       "(google, alert, inps)             15\n",
       "(selezionate, google, alert)      15\n",
       "(alert, inps, reddito)             3\n",
       "(alert, inps, inps)                3\n",
       "(inps, reddito, cittadinanza)      3\n",
       "(soggiorno, reddito, libertà)      2\n",
       "(mancava, proprio, bonus)          2\n",
       "(proprio, bonus, falseaccuse)      2\n",
       "(bonus, falseaccuse, metoo)        2\n",
       "(falseaccuse, metoo, migranti)     2\n",
       "dtype: int64"
      ]
     },
     "execution_count": 25,
     "metadata": {},
     "output_type": "execute_result"
    }
   ],
   "source": [
    "ng = ngrams(gs,11,3,10)\n",
    "ng"
   ]
  },
  {
   "cell_type": "markdown",
   "metadata": {},
   "source": [
    "# Sentiment distribution visualization"
   ]
  },
  {
   "cell_type": "code",
   "execution_count": 138,
   "metadata": {},
   "outputs": [],
   "source": [
    "grouped = gs.groupby([\"month\",\"Class\"]).size()\n",
    "grouped = grouped.to_frame()\n",
    "grouped = grouped.reset_index()"
   ]
  },
  {
   "cell_type": "markdown",
   "metadata": {},
   "source": [
    "## Grouped bar chart"
   ]
  },
  {
   "cell_type": "code",
   "execution_count": 139,
   "metadata": {},
   "outputs": [],
   "source": [
    "#dataframe to visualize\n",
    "df = pd.DataFrame([['1',17,73,61,3], ['2',7,43,47,2], ['3',7,105,62,1],['4',17,101,71,4],['5',23,133,93,7],['6',24,109,76,5],['7',13,79,90,2],['8',8,63,62,3],['9',8,42,66,2],['10',12,65,70,2],['11',10,55,62,0],['12',12,30,50,0]],\n",
    "\t\t\t\tcolumns=['Month','Pos','Neg','Neut','Mix'])"
   ]
  },
  {
   "cell_type": "code",
   "execution_count": 167,
   "metadata": {},
   "outputs": [
    {
     "data": {
      "text/plain": [
       "<AxesSubplot:title={'center':'Sentiment distribution'}, xlabel='Month'>"
      ]
     },
     "execution_count": 167,
     "metadata": {},
     "output_type": "execute_result"
    },
    {
     "data": {
      "image/png": "[encoded data removed]",
      "text/plain": [
       "<Figure size 1080x360 with 1 Axes>"
      ]
     },
     "metadata": {
      "needs_background": "light"
     },
     "output_type": "display_data"
    }
   ],
   "source": [
    "#Grouped bar chart\n",
    "df.plot(x='Month',\n",
    "\t\tkind='bar',\n",
    "\t\tstacked=False,\n",
    "\t\ttitle='Sentiment distribution',\n",
    "\t\tfigsize=(15,5),\n",
    "\t\tcolor=['g', 'r', 'y','b'])\n"
   ]
  }
 ],
 "metadata": {
  "interpreter": {
   "hash": "03f8b8a1f797741164ec3397284a862f699c996acdec68272bf499e5af8d4843"
  },
  "kernelspec": {
   "display_name": "Python 3.9.7 ('sa')",
   "language": "python",
   "name": "python3"
  },
  "language_info": {
   "codemirror_mode": {
    "name": "ipython",
    "version": 3
   },
   "file_extension": ".py",
   "mimetype": "text/x-python",
   "name": "python",
   "nbconvert_exporter": "python",
   "pygments_lexer": "ipython3",
   "version": "3.9.7"
  },
  "orig_nbformat": 4
 },
 "nbformat": 4,
 "nbformat_minor": 2
}
