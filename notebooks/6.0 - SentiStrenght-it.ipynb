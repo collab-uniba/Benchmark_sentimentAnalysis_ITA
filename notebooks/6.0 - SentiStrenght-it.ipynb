{
 "cells": [
  {
   "cell_type": "markdown",
   "metadata": {},
   "source": [
    "# Prep Work\n",
    "To run this notebook properly on Colab you need to execute the following cell in order to clone the repository and get the necessary data"
   ]
  },
  {
   "cell_type": "code",
   "execution_count": null,
   "metadata": {},
   "outputs": [],
   "source": [
    "! git clone https://github.com/collab-uniba/Benchmark_sentimentAnalysis_ITA.git"
   ]
  },
  {
   "cell_type": "markdown",
   "metadata": {},
   "source": [
    "# Preparing SentiStrenght files from Custom Sentix Lexicon "
   ]
  },
  {
   "cell_type": "code",
   "execution_count": 1,
   "metadata": {},
   "outputs": [],
   "source": [
    "import pandas as pd\n",
    "import warnings\n",
    "warnings.filterwarnings(\"ignore\")\n",
    "\n",
    "sentix_SS = pd.read_csv(\"/content/Benchmark_sentimentAnalysis_ITA/data/external/lexicon/sentix_ss.csv\")"
   ]
  },
  {
   "cell_type": "code",
   "execution_count": null,
   "metadata": {},
   "outputs": [],
   "source": [
    "#IdiomLookupTable\n",
    "idiom = sentix_SS[(sentix_SS['Lemma'].str.contains('_'))==True]\n",
    "idiom[\"Lemma\"]= idiom[\"Lemma\"].str.replace(\"(\",\"\")\n",
    "idiom[\"Lemma\"]= idiom[\"Lemma\"].str.replace(\")\",\"\") \n",
    "\n",
    "#BoosterWordList\n",
    "bwl = [\"abbastanza\", \"sufficientemente\",\"bastantemente\",\"troppo\",\"poco\",\"pochino\",\"minimamente\",\"pochissimo\",\"meno\",\"alquanto\",\"piuttosto\",\"assai\",\"molto\",\"grandemente\",\"tanto\",\"massimamente\",\"affatto\",\"più\",\"affatto\",\"proprio\",\"veramente\",\"assolutamente\",\"notevolmente\",\"particolarmente\",\"davvero\",\"super\",\"iper\",\"mega\",\"maxi\",\"completamente\"]\n",
    "boosterWordList = sentix_SS[sentix_SS['Lemma'].isin(bwl)]\n",
    "\n",
    "#NegatingWordList\n",
    "nwl = [\"non\",'nemmeno','neanche','neppure','no']\n",
    "negatingWordList = sentix_SS[sentix_SS['Lemma'].isin(nwl)]\n",
    "\n",
    "#EmotionLookupTable\n",
    "sentix_SS = pd.concat([sentix_SS,idiom,boosterWordList,negatingWordList]).drop_duplicates(keep=False,subset='New_Lemma')"
   ]
  },
  {
   "cell_type": "code",
   "execution_count": null,
   "metadata": {},
   "outputs": [],
   "source": [
    "#EmotionLookupTable\n",
    "elt = sentix_SS[['New_Lemma','Polarity SS']]\n",
    "elt['Polarity SS'] = elt['Polarity SS'].astype('int') \n",
    "elt.to_csv('/content/Benchmark_sentimentAnalysis_ITA/data/external/SentiStrenght/SentiStrength_Italian_Custom/EmotionLookupTable.txt', sep='\\t',header=None, index=None)\n",
    "\n",
    "#IdiomLookupTable\n",
    "ilt = idiom[[\"Lemma\",\"Polarity SS\"]]\n",
    "ilt['Polarity SS'] = ilt['Polarity SS'].astype('int') \n",
    "ilt.to_csv('/content/Benchmark_sentimentAnalysis_ITA/data/external/SentiStrenght/SentiStrength_Italian_Custom/IdiomLookupTable.txt', sep='\\t',header=None, index=None)\n",
    "\n",
    "#BoosterWordList\n",
    "bwl = boosterWordList[[\"New_Lemma\",\"Polarity SS\"]]\n",
    "bwl['Polarity SS'] = bwl['Polarity SS'].astype('int') \n",
    "bwl.to_csv('/content/Benchmark_sentimentAnalysis_ITA/data/external/SentiStrenght/SentiStrength_Italian_Custom/BoosterWordList.txt', sep='\\t',header=None, index=None)\n",
    "\n",
    "#NegatingWordList\n",
    "nwl = negatingWordList[[\"New_Lemma\"]]\n",
    "nwl.to_csv('/content/Benchmark_sentimentAnalysis_ITA/data/external/SentiStrenght/SentiStrength_Italian_Custom/NegatingWordList.txt',header=None, index=None)"
   ]
  },
  {
   "cell_type": "code",
   "execution_count": 3,
   "metadata": {},
   "outputs": [],
   "source": [
    "#Idiom handling\n",
    "idiom['Lemma_2'] = idiom['Lemma'].str.replace('_',' ')\n",
    "idList = idiom['Lemma_2'].to_list()\n",
    "idList2 = idiom['Lemma'].to_list()"
   ]
  },
  {
   "cell_type": "markdown",
   "metadata": {},
   "source": [
    "# Enti Pubblici Dataset\n",
    "## Preparing Gold Standard for SentiStrenght"
   ]
  },
  {
   "cell_type": "code",
   "execution_count": 4,
   "metadata": {},
   "outputs": [],
   "source": [
    "import pandas as pd\n",
    "gs = pd.read_csv(\"/content/Benchmark_sentimentAnalysis_ITA/data/processed/Enti/test.csv\")"
   ]
  },
  {
   "cell_type": "code",
   "execution_count": 5,
   "metadata": {},
   "outputs": [],
   "source": [
    "#search and replace every idiomatic expression which is in list in tweets\n",
    "I=pd.Series(gs.tweet_x)\n",
    "for i in idList:\n",
    "    I.replace(i, i.replace(\" \",\"_\") ,regex=False, inplace = True)\n",
    "I=I.to_frame()"
   ]
  },
  {
   "cell_type": "markdown",
   "metadata": {},
   "source": [
    "## Processing gold standard with Spacy"
   ]
  },
  {
   "cell_type": "code",
   "execution_count": null,
   "metadata": {},
   "outputs": [],
   "source": [
    "! pip install spacy==3.2.4\n",
    "! python -m spacy download it_core_news_lg"
   ]
  },
  {
   "cell_type": "code",
   "execution_count": 6,
   "metadata": {},
   "outputs": [],
   "source": [
    "import spacy\n",
    "\n",
    "nlp = spacy.load(\"it_core_news_lg\")\n",
    "I['spacy'] = I['tweet_x'].apply(lambda x: nlp(x))\n",
    "docs = I['spacy'].to_list()"
   ]
  },
  {
   "cell_type": "code",
   "execution_count": 7,
   "metadata": {},
   "outputs": [],
   "source": [
    "#Extract lemmatization and POS tagging from individual spaCy doc\n",
    "def extract_lemma_pos(doc:spacy.tokens.doc.Doc):\n",
    "    return [token.lemma_+\"_\"+token.pos_ for token in doc]"
   ]
  },
  {
   "cell_type": "code",
   "execution_count": 8,
   "metadata": {},
   "outputs": [],
   "source": [
    "#Tokenization and application of lemmatization and POS tagging\n",
    "def tidy_tokens(docs):\n",
    "    cols = [\"doc_id\",\"processed\"]\n",
    "    meta_df = []\n",
    "    for ix, doc in enumerate(docs):\n",
    "        meta = extract_lemma_pos(doc)\n",
    "        meta = pd.DataFrame(meta)\n",
    "        meta.columns = cols[1:]\n",
    "        meta = meta.assign(doc_id = ix).loc[:, cols]\n",
    "        meta_df.append(meta)\n",
    "        \n",
    "    return pd.concat(meta_df)  "
   ]
  },
  {
   "cell_type": "code",
   "execution_count": 9,
   "metadata": {},
   "outputs": [
    {
     "data": {
      "text/html": [
       "<div>\n",
       "<style scoped>\n",
       "    .dataframe tbody tr th:only-of-type {\n",
       "        vertical-align: middle;\n",
       "    }\n",
       "\n",
       "    .dataframe tbody tr th {\n",
       "        vertical-align: top;\n",
       "    }\n",
       "\n",
       "    .dataframe thead th {\n",
       "        text-align: right;\n",
       "    }\n",
       "</style>\n",
       "<table border=\"1\" class=\"dataframe\">\n",
       "  <thead>\n",
       "    <tr style=\"text-align: right;\">\n",
       "      <th></th>\n",
       "      <th>doc_id</th>\n",
       "      <th>processed</th>\n",
       "    </tr>\n",
       "  </thead>\n",
       "  <tbody>\n",
       "    <tr>\n",
       "      <th>0</th>\n",
       "      <td>0</td>\n",
       "      <td>invece_ADV</td>\n",
       "    </tr>\n",
       "    <tr>\n",
       "      <th>1</th>\n",
       "      <td>0</td>\n",
       "      <td>mi_PRON</td>\n",
       "    </tr>\n",
       "    <tr>\n",
       "      <th>2</th>\n",
       "      <td>0</td>\n",
       "      <td>sapere_VERB</td>\n",
       "    </tr>\n",
       "    <tr>\n",
       "      <th>3</th>\n",
       "      <td>0</td>\n",
       "      <td>proprio_ADV</td>\n",
       "    </tr>\n",
       "    <tr>\n",
       "      <th>4</th>\n",
       "      <td>0</td>\n",
       "      <td>che_SCONJ</td>\n",
       "    </tr>\n",
       "  </tbody>\n",
       "</table>\n",
       "</div>"
      ],
      "text/plain": [
       "   doc_id    processed\n",
       "0       0   invece_ADV\n",
       "1       0      mi_PRON\n",
       "2       0  sapere_VERB\n",
       "3       0  proprio_ADV\n",
       "4       0    che_SCONJ"
      ]
     },
     "execution_count": 9,
     "metadata": {},
     "output_type": "execute_result"
    }
   ],
   "source": [
    "df = tidy_tokens(docs)\n",
    "df.head()"
   ]
  },
  {
   "cell_type": "code",
   "execution_count": 10,
   "metadata": {},
   "outputs": [],
   "source": [
    "df = df.groupby('doc_id')['processed'].apply(' '.join).reset_index()"
   ]
  },
  {
   "cell_type": "code",
   "execution_count": 11,
   "metadata": {},
   "outputs": [],
   "source": [
    "list = [\"😀\",\"😃\",\"😄\",\"😁\",\"😆\",\"🤣\",\"😂\",\"🙂\",\"😊\",\"😍\",\"🥰\",\"🤩\",\"☺\",\"🥳\",\"😒\",\"😔\",\"😟\",\"🙁\",\"☹\",\"😥\",\"😢\",\"😭\",\"😱\",\"😞\",\"😓\",\"😩\",\"😫\",\"😡\",\"😠\",\"🤬\"]\n",
    "\n",
    "S=pd.Series(df.processed)\n",
    "\n",
    "#Regular expression to replace the POS tags with the lowercase version or to delete them in order to recognize terms in the support files (QuestionWords)\n",
    "for i in list:\n",
    "    S.replace(i+'\\S+', i,regex=True, inplace = True)\n",
    "\n",
    "for i in idList2:\n",
    "    S.replace(i+'\\S+', i,regex=True, inplace = True)\n",
    "\n",
    "S.replace(\"NOUN\",\"noun\",regex=True, inplace = True)\n",
    "S.replace(\"ADJ\",\"adj\",regex=True, inplace = True)\n",
    "S.replace(\"ADV\",\"adv\",regex=True, inplace = True)\n",
    "S.replace(\"VERB\",\"verb\",regex=True, inplace = True)\n",
    "S.replace(\"_ADP\",\"\",regex=True, inplace = True)\n",
    "S.replace(\"_AUX\",\"\",regex=True, inplace = True)\n",
    "S.replace(\"_CONJ\",\"\",regex=True, inplace = True)\n",
    "S.replace(\"_CCONJ\",\"\",regex=True, inplace = True)\n",
    "S.replace(\"_DET\",\"\",regex=True, inplace = True)\n",
    "S.replace(\"_INTJ\",\"\",regex=True, inplace = True)\n",
    "S.replace(\"_NUM\",\"\",regex=True, inplace = True)\n",
    "S.replace(\"_PART\",\"\",regex=True, inplace = True)\n",
    "S.replace(\"_PRON\",\"\",regex=True, inplace = True)\n",
    "S.replace(\"_PROPN\",\"\",regex=True, inplace = True)\n",
    "S.replace(\"_PUNCT\",\"\",regex=True, inplace = True)\n",
    "S.replace(\"_SCONJ\",\"\",regex=True, inplace = True)\n",
    "S.replace(\"_SYM\",\"\",regex=True, inplace = True)\n",
    "S.replace(\"_X\",\"\",regex=True, inplace = True)\n",
    "S.replace(\"_SPACE\",\"\",regex=True, inplace = True)\n",
    "S.replace(\"[_][+]\\s\",\" \",regex=True, inplace = True)"
   ]
  },
  {
   "cell_type": "code",
   "execution_count": 12,
   "metadata": {},
   "outputs": [
    {
     "data": {
      "text/plain": [
       "'andare_verb ad imparare_verb l inglese_noun a dubai stupefacente_noun incredibilmente_adv ridicolo_adj 😁'"
      ]
     },
     "execution_count": 12,
     "metadata": {},
     "output_type": "execute_result"
    }
   ],
   "source": [
    "S[1]"
   ]
  },
  {
   "cell_type": "markdown",
   "metadata": {},
   "source": [
    "## Convert tweets to txt files to submit to SentiStrenght"
   ]
  },
  {
   "cell_type": "code",
   "execution_count": 14,
   "metadata": {},
   "outputs": [],
   "source": [
    "S.to_csv(\"/content/Benchmark_sentimentAnalysis_ITA/data/external/SentiStrenght/In_Out/file.txt\",header=None,index=None,sep=' ',mode='a')"
   ]
  },
  {
   "cell_type": "markdown",
   "metadata": {},
   "source": [
    "# Sentipolc Dataset\n",
    "## Preparing for SentiStrenght"
   ]
  },
  {
   "cell_type": "code",
   "execution_count": 98,
   "metadata": {},
   "outputs": [],
   "source": [
    "colnames=['idTwitter','subj','opos','oneg','iro','lpos','lneg','top','text'] \n",
    "sp = pd.read_csv(\"/content/Benchmark_sentimentAnalysis_ITA/data/processed/SentiPolc/test_set_sentipolc16_gold2000.csv\",header=None,names=colnames)\n",
    "\n",
    "#defining gold standard dataframes to get final results\n",
    "gs2 = pd.read_csv(\"/content/Benchmark_sentimentAnalysis_ITA/data/processed/SentiPolc/test_set_sentipolc16_gold2000.csv\",header=None,names=colnames)"
   ]
  },
  {
   "cell_type": "markdown",
   "metadata": {},
   "source": [
    "## Dataset Preprocessing"
   ]
  },
  {
   "cell_type": "code",
   "execution_count": 16,
   "metadata": {},
   "outputs": [],
   "source": [
    "import nltk\n",
    "from nltk.corpus import stopwords\n",
    "nltk.download('stopwords')\n",
    "\n",
    "#Keep original tweets\n",
    "sp['tweetOrig']=sp['text']\n",
    "\n",
    "#Adding a space before and after each stopword in such a way not to consider the case in which the stopword is contained in a word\n",
    "words = set(stopwords.words('italian'))\n",
    "stopwords = [' ' + x + ' ' for x in words]\n",
    "\n",
    "emoticons = [\"😀\",\"😃\",\"😄\",\"😁\",\"😆\",\"🤣\",\"😂\",\"🙂\",\"😊\",\"😍\",\"🥰\",\"🤩\",\"☺\",\"🥳\",\"😒\",\"😔\",\"😟\",\"🙁\",\"☹\",\"😥\",\"😢\",\"😭\",\"😱\",\"😞\",\"😓\",\"😩\",\"😫\",\"😡\",\"😠\",\"🤬\"]\n",
    "\n",
    "sp.text = sp.text.replace(\"@[\\w]*[_-]*[\\w]*\",\" \",regex=True)   # tag removal\n",
    "sp.text = sp.text.replace(\"https?://[\\w/%-.]*\",\" \",regex=True) # Url removal\n",
    "# Removing everything except the letters of the alphabet and the emoticons\n",
    "sp.text = sp.text.replace('[^ a-zA-Zà-ú'\n",
    "                            '\\😀\\😃\\😄\\😁\\😆\\🤣\\😂\\🙂\\😊\\😍\\🥰\\🤩\\☺\\🥳\\😒\\😔\\😟\\🙁\\☹\\😥\\😭\\😱\\😞\\😓\\😩\\😫\\😡\\😠\\🤬]', \" \",regex=True)    \n",
    "for word in emoticons:\n",
    "    sp.text = sp.text.replace(word, \" \"+word+\" \",regex=True) \n",
    "\n",
    "sp.text = sp.text.replace('\\s+', ' ',regex=True)               # Removal of excess spaces\n",
    "sp.text = sp.text.replace('^ ', '', regex=True)                # Removing the space at the beginning\n",
    "sp.text = sp.text.replace(' $', '', regex=True)                # Removing the space at the end\n",
    "sp.text = sp.text.apply(lambda x: x.lower())                   # Making everything in lowercase\n",
    "sp.text = sp.text.replace('^', ' ', regex=True) \n",
    "sp.text = sp.text.replace('$', ' ', regex=True)\n",
    "\n",
    "for word in stopwords:\n",
    "    sp.text = sp.text.replace(word, ' ',regex=True)\n",
    "\n",
    "# Removing the spaces at the beginning and at the end of every tweet\n",
    "sp.text = sp.text.apply(lambda x: x.strip())\n",
    "# Removing the empty tweets\n",
    "sp = sp[sp.text != '']"
   ]
  },
  {
   "cell_type": "code",
   "execution_count": 17,
   "metadata": {},
   "outputs": [],
   "source": [
    "#search and replace every idiomatic expression which is in list in tweets\n",
    "I=pd.Series(sp.text)\n",
    "for i in idList:\n",
    "    I.replace(i, i.replace(\" \",\"_\") ,regex=False, inplace = True)\n",
    "I=I.to_frame()"
   ]
  },
  {
   "cell_type": "markdown",
   "metadata": {},
   "source": [
    "## Processing with Spacy"
   ]
  },
  {
   "cell_type": "code",
   "execution_count": 18,
   "metadata": {},
   "outputs": [],
   "source": [
    "import spacy\n",
    "\n",
    "nlp = spacy.load(\"it_core_news_lg\")\n",
    "I['spacy'] = I['text'].apply(lambda x: nlp(x))\n",
    "docs = I['spacy'].to_list()"
   ]
  },
  {
   "cell_type": "code",
   "execution_count": 19,
   "metadata": {},
   "outputs": [
    {
     "data": {
      "text/html": [
       "<div>\n",
       "<style scoped>\n",
       "    .dataframe tbody tr th:only-of-type {\n",
       "        vertical-align: middle;\n",
       "    }\n",
       "\n",
       "    .dataframe tbody tr th {\n",
       "        vertical-align: top;\n",
       "    }\n",
       "\n",
       "    .dataframe thead th {\n",
       "        text-align: right;\n",
       "    }\n",
       "</style>\n",
       "<table border=\"1\" class=\"dataframe\">\n",
       "  <thead>\n",
       "    <tr style=\"text-align: right;\">\n",
       "      <th></th>\n",
       "      <th>doc_id</th>\n",
       "      <th>processed</th>\n",
       "    </tr>\n",
       "  </thead>\n",
       "  <tbody>\n",
       "    <tr>\n",
       "      <th>0</th>\n",
       "      <td>0</td>\n",
       "      <td>minuto_NOUN</td>\n",
       "    </tr>\n",
       "    <tr>\n",
       "      <th>1</th>\n",
       "      <td>0</td>\n",
       "      <td>presentazione_ADJ</td>\n",
       "    </tr>\n",
       "    <tr>\n",
       "      <th>2</th>\n",
       "      <td>0</td>\n",
       "      <td>piano_NOUN</td>\n",
       "    </tr>\n",
       "    <tr>\n",
       "      <th>3</th>\n",
       "      <td>0</td>\n",
       "      <td>scuola_NOUN</td>\n",
       "    </tr>\n",
       "    <tr>\n",
       "      <th>4</th>\n",
       "      <td>0</td>\n",
       "      <td>governo_NOUN</td>\n",
       "    </tr>\n",
       "  </tbody>\n",
       "</table>\n",
       "</div>"
      ],
      "text/plain": [
       "   doc_id          processed\n",
       "0       0        minuto_NOUN\n",
       "1       0  presentazione_ADJ\n",
       "2       0         piano_NOUN\n",
       "3       0        scuola_NOUN\n",
       "4       0       governo_NOUN"
      ]
     },
     "execution_count": 19,
     "metadata": {},
     "output_type": "execute_result"
    }
   ],
   "source": [
    "df = tidy_tokens(docs)\n",
    "df.head()"
   ]
  },
  {
   "cell_type": "code",
   "execution_count": 20,
   "metadata": {},
   "outputs": [],
   "source": [
    "df = df.groupby('doc_id')['processed'].apply(' '.join).reset_index()"
   ]
  },
  {
   "cell_type": "code",
   "execution_count": 21,
   "metadata": {},
   "outputs": [],
   "source": [
    "list = [\"😀\",\"😃\",\"😄\",\"😁\",\"😆\",\"🤣\",\"😂\",\"🙂\",\"😊\",\"😍\",\"🥰\",\"🤩\",\"☺\",\"🥳\",\"😒\",\"😔\",\"😟\",\"🙁\",\"☹\",\"😥\",\"😢\",\"😭\",\"😱\",\"😞\",\"😓\",\"😩\",\"😫\",\"😡\",\"😠\",\"🤬\"]\n",
    "\n",
    "S=pd.Series(df.processed)\n",
    "\n",
    "#Regular expression to replace the POS tags with the lowercase version or to delete them in order to recognize terms in the support files (QuestionWords)\n",
    "for i in list:\n",
    "    S.replace(i+'\\S+', i,regex=True, inplace = True)\n",
    "\n",
    "for i in idList2:\n",
    "    S.replace(i+'\\S+', i,regex=True, inplace = True)\n",
    "\n",
    "S.replace(\"NOUN\",\"noun\",regex=True, inplace = True)\n",
    "S.replace(\"ADJ\",\"adj\",regex=True, inplace = True)\n",
    "S.replace(\"ADV\",\"adv\",regex=True, inplace = True)\n",
    "S.replace(\"VERB\",\"verb\",regex=True, inplace = True)\n",
    "S.replace(\"_ADP\",\"\",regex=True, inplace = True)\n",
    "S.replace(\"_AUX\",\"\",regex=True, inplace = True)\n",
    "S.replace(\"_CONJ\",\"\",regex=True, inplace = True)\n",
    "S.replace(\"_CCONJ\",\"\",regex=True, inplace = True)\n",
    "S.replace(\"_DET\",\"\",regex=True, inplace = True)\n",
    "S.replace(\"_INTJ\",\"\",regex=True, inplace = True)\n",
    "S.replace(\"_NUM\",\"\",regex=True, inplace = True)\n",
    "S.replace(\"_PART\",\"\",regex=True, inplace = True)\n",
    "S.replace(\"_PRON\",\"\",regex=True, inplace = True)\n",
    "S.replace(\"_PROPN\",\"\",regex=True, inplace = True)\n",
    "S.replace(\"_PUNCT\",\"\",regex=True, inplace = True)\n",
    "S.replace(\"_SCONJ\",\"\",regex=True, inplace = True)\n",
    "S.replace(\"_SYM\",\"\",regex=True, inplace = True)\n",
    "S.replace(\"_X\",\"\",regex=True, inplace = True)\n",
    "S.replace(\"_SPACE\",\"\",regex=True, inplace = True)\n",
    "S.replace(\"[_][+]\\s\",\" \",regex=True, inplace = True)"
   ]
  },
  {
   "cell_type": "markdown",
   "metadata": {},
   "source": [
    "## Convert tweets to txt files to submit to SentiStrenght"
   ]
  },
  {
   "cell_type": "code",
   "execution_count": 22,
   "metadata": {},
   "outputs": [],
   "source": [
    "S.to_csv(\"/content/Benchmark_sentimentAnalysis_ITA/data/external/SentiStrenght/In_Out/sp.txt\",header=None,index=None,sep=' ',mode='a')"
   ]
  },
  {
   "cell_type": "markdown",
   "metadata": {},
   "source": [
    "# SentiStrenght"
   ]
  },
  {
   "cell_type": "code",
   "execution_count": 23,
   "metadata": {},
   "outputs": [],
   "source": [
    "import subprocess\n",
    "import shlex\n",
    "import os.path\n",
    "import sys"
   ]
  },
  {
   "cell_type": "code",
   "execution_count": 24,
   "metadata": {},
   "outputs": [],
   "source": [
    "SentiStrengthLocation = \"/content/Benchmark_sentimentAnalysis_ITA/utility/SentiStrengthCom.jar\" # path for .jar file\n",
    "SentiStrengthLanguageFolder = \"/content/Benchmark_sentimentAnalysis_ITA/data/external/SentiStrenght/SentiStrength_Italian_Custom/\" #path for directory containing SentiStrenght support files"
   ]
  },
  {
   "cell_type": "code",
   "execution_count": 25,
   "metadata": {},
   "outputs": [],
   "source": [
    "#Test code\n",
    "if not os.path.isfile(SentiStrengthLocation):\n",
    "    print(\"SentiStrength not found at: \", SentiStrengthLocation)\n",
    "if not os.path.isdir(SentiStrengthLanguageFolder):\n",
    "    print(\"SentiStrength data folder not found at: \", SentiStrengthLanguageFolder)"
   ]
  },
  {
   "cell_type": "code",
   "execution_count": 26,
   "metadata": {},
   "outputs": [],
   "source": [
    "def RateSentiment(sentiString):\n",
    "    #open a subprocess using shlex to get the command line string into the correct args list format\n",
    "    p = subprocess.Popen(shlex.split(\"java -jar '\" + SentiStrengthLocation + \"' stdin sentidata '\" + SentiStrengthLanguageFolder + \"'\"),stdin=subprocess.PIPE,stdout=subprocess.PIPE,stderr=subprocess.PIPE)\n",
    "    #communicate via stdin the string to be rated. Note that all spaces are replaced with +\n",
    "    b = bytes(sentiString.replace(\" \",\"+\"), 'utf-8') #Can't send string in Python 3, must send bytes\n",
    "    stdout_byte, stderr_text = p.communicate(b)\n",
    "    stdout_text = stdout_byte.decode(\"utf-8\")  #convert from byte\n",
    "    stdout_text = stdout_text.rstrip().replace(\"/t\",\" \") #remove the tab spacing between the positive and negative ratings. e.g. 1    -5 -> 1 -5\n",
    "    return stdout_text + \" \" + sentiString"
   ]
  },
  {
   "cell_type": "markdown",
   "metadata": {},
   "source": [
    "## SentiStrenght from file"
   ]
  },
  {
   "cell_type": "markdown",
   "metadata": {},
   "source": [
    "## Enti Pubblici"
   ]
  },
  {
   "cell_type": "code",
   "execution_count": 28,
   "metadata": {},
   "outputs": [],
   "source": [
    "FileToClassify = \"/content/Benchmark_sentimentAnalysis_ITA/data/external/SentiStrenght/In_Out/file.txt\"\n",
    "if not os.path.isfile(FileToClassify):\n",
    "    print(\"File to classify not found at: \", FileToClassify)"
   ]
  },
  {
   "cell_type": "code",
   "execution_count": null,
   "metadata": {},
   "outputs": [],
   "source": [
    "print(\"Running SentiStrength on file \" + FileToClassify + \" with command:\")\n",
    "cmd = 'java -jar \"' + SentiStrengthLocation + '\" sentidata \"' + SentiStrengthLanguageFolder + '\" input \"' + FileToClassify + '\"'\n",
    "print(cmd)\n",
    "p = subprocess.Popen(shlex.split(cmd),stdin=subprocess.PIPE,stdout=subprocess.PIPE,stderr=subprocess.PIPE)\n",
    "classifiedSentimentFile = os.path.splitext(FileToClassify)[0] + \"0_out.txt\"\n",
    "print(\"Finished! The results will be in:/n\" + classifiedSentimentFile)"
   ]
  },
  {
   "cell_type": "markdown",
   "metadata": {},
   "source": [
    "### Results"
   ]
  },
  {
   "cell_type": "code",
   "execution_count": null,
   "metadata": {},
   "outputs": [],
   "source": [
    "comments = pd.read_csv(\"/content/Benchmark_sentimentAnalysis_ITA/data/external/SentiStrenght/In_Out/file0_out.txt\",sep='\\t',encoding='latin-1')\n",
    "comments.head()"
   ]
  },
  {
   "cell_type": "code",
   "execution_count": 9,
   "metadata": {},
   "outputs": [],
   "source": [
    "#Reset index to join dataframes\n",
    "comments=comments.reset_index()\n",
    "gs=gs.reset_index()\n",
    "#Mapping SentiStrenght scores to sentiment classes\n",
    "comments.loc[comments['Positive'] > 1, 'Pos_SS'] = 'yes'\n",
    "comments.loc[comments['Negative'] < -1, 'Neg_SS'] = 'yes'\n",
    "comments.loc[(comments['Positive'] <= 1)&(comments['Negative'] >= -1) , 'Neut_SS'] = 'yes'\n",
    "\n",
    "#Mapping GoldStandard scores to sentiment classes\n",
    "gs.loc[gs['Class'] =='pos', 'Pos_GS'] = 'yes'\n",
    "gs.loc[gs['Class'] == 'neg', 'Neg_GS'] = 'yes'\n",
    "gs.loc[gs['Class'] == 'neut', 'Neut_GS'] = 'yes'\n",
    "gs.loc[gs['Class'] == 'mix', 'Pos_GS'] = 'yes'\n",
    "gs.loc[gs['Class'] == 'mix', 'Neg_GS'] = 'yes'\n",
    "\n",
    "#Join dataframes\n",
    "val = gs.merge(comments, how='inner', on='index')\n",
    "val = val.fillna(\"no\")\n",
    "val = val[['tweet_id','year','month','day','tweet_x','tweetOrig','Pos_GS','Pos_SS', 'Neg_GS','Neg_SS', 'Neut_GS','Neut_SS', 'Irony']]"
   ]
  },
  {
   "cell_type": "code",
   "execution_count": 10,
   "metadata": {},
   "outputs": [
    {
     "data": {
      "text/html": [
       "<div>\n",
       "<style scoped>\n",
       "    .dataframe tbody tr th:only-of-type {\n",
       "        vertical-align: middle;\n",
       "    }\n",
       "\n",
       "    .dataframe tbody tr th {\n",
       "        vertical-align: top;\n",
       "    }\n",
       "\n",
       "    .dataframe thead th {\n",
       "        text-align: right;\n",
       "    }\n",
       "</style>\n",
       "<table border=\"1\" class=\"dataframe\">\n",
       "  <thead>\n",
       "    <tr style=\"text-align: right;\">\n",
       "      <th></th>\n",
       "      <th>tweet_id</th>\n",
       "      <th>year</th>\n",
       "      <th>month</th>\n",
       "      <th>day</th>\n",
       "      <th>tweet_x</th>\n",
       "      <th>tweetOrig</th>\n",
       "      <th>Pos_GS</th>\n",
       "      <th>Pos_SS</th>\n",
       "      <th>Neg_GS</th>\n",
       "      <th>Neg_SS</th>\n",
       "      <th>Neut_GS</th>\n",
       "      <th>Neut_SS</th>\n",
       "      <th>Irony</th>\n",
       "    </tr>\n",
       "  </thead>\n",
       "  <tbody>\n",
       "    <tr>\n",
       "      <th>0</th>\n",
       "      <td>1462002288835403777</td>\n",
       "      <td>2021</td>\n",
       "      <td>11</td>\n",
       "      <td>20</td>\n",
       "      <td>in arrivo un nuovo bonus inps scopri chi può o...</td>\n",
       "      <td>In arrivo un nuovo #bonus #inps! Scopri chi pu...</td>\n",
       "      <td>yes</td>\n",
       "      <td>yes</td>\n",
       "      <td>no</td>\n",
       "      <td>yes</td>\n",
       "      <td>no</td>\n",
       "      <td>no</td>\n",
       "      <td>no</td>\n",
       "    </tr>\n",
       "    <tr>\n",
       "      <th>1</th>\n",
       "      <td>1354381987507744771</td>\n",
       "      <td>2021</td>\n",
       "      <td>1</td>\n",
       "      <td>27</td>\n",
       "      <td>allora riepiloghiamo ai politici la pensione d...</td>\n",
       "      <td>Allora, riepiloghiamo;\\nAi politici la pension...</td>\n",
       "      <td>no</td>\n",
       "      <td>yes</td>\n",
       "      <td>yes</td>\n",
       "      <td>yes</td>\n",
       "      <td>no</td>\n",
       "      <td>no</td>\n",
       "      <td>yes</td>\n",
       "    </tr>\n",
       "    <tr>\n",
       "      <th>2</th>\n",
       "      <td>1454050817821003783</td>\n",
       "      <td>2021</td>\n",
       "      <td>10</td>\n",
       "      <td>29</td>\n",
       "      <td>caro e cari fate bene i vostri conti perché no...</td>\n",
       "      <td>Caro @INPS_it e cari @Europarl_IT  fate bene i...</td>\n",
       "      <td>no</td>\n",
       "      <td>yes</td>\n",
       "      <td>yes</td>\n",
       "      <td>no</td>\n",
       "      <td>no</td>\n",
       "      <td>no</td>\n",
       "      <td>yes</td>\n",
       "    </tr>\n",
       "    <tr>\n",
       "      <th>3</th>\n",
       "      <td>1393675898960982016</td>\n",
       "      <td>2021</td>\n",
       "      <td>5</td>\n",
       "      <td>15</td>\n",
       "      <td>foto a napoli dopo l apertura di una voragine ...</td>\n",
       "      <td>FOTO - A #napoli, dopo l'apertura di una #vora...</td>\n",
       "      <td>no</td>\n",
       "      <td>yes</td>\n",
       "      <td>no</td>\n",
       "      <td>no</td>\n",
       "      <td>yes</td>\n",
       "      <td>no</td>\n",
       "      <td>no</td>\n",
       "    </tr>\n",
       "    <tr>\n",
       "      <th>4</th>\n",
       "      <td>1417876270705164289</td>\n",
       "      <td>2021</td>\n",
       "      <td>7</td>\n",
       "      <td>21</td>\n",
       "      <td>maxi esercitazione di protezionecivile lo scen...</td>\n",
       "      <td>Maxi esercitazione di #protezionecivile. Lo sc...</td>\n",
       "      <td>no</td>\n",
       "      <td>yes</td>\n",
       "      <td>no</td>\n",
       "      <td>yes</td>\n",
       "      <td>yes</td>\n",
       "      <td>no</td>\n",
       "      <td>no</td>\n",
       "    </tr>\n",
       "  </tbody>\n",
       "</table>\n",
       "</div>"
      ],
      "text/plain": [
       "              tweet_id  year  month  day  \\\n",
       "0  1462002288835403777  2021     11   20   \n",
       "1  1354381987507744771  2021      1   27   \n",
       "2  1454050817821003783  2021     10   29   \n",
       "3  1393675898960982016  2021      5   15   \n",
       "4  1417876270705164289  2021      7   21   \n",
       "\n",
       "                                             tweet_x  \\\n",
       "0  in arrivo un nuovo bonus inps scopri chi può o...   \n",
       "1  allora riepiloghiamo ai politici la pensione d...   \n",
       "2  caro e cari fate bene i vostri conti perché no...   \n",
       "3  foto a napoli dopo l apertura di una voragine ...   \n",
       "4  maxi esercitazione di protezionecivile lo scen...   \n",
       "\n",
       "                                           tweetOrig Pos_GS Pos_SS Neg_GS  \\\n",
       "0  In arrivo un nuovo #bonus #inps! Scopri chi pu...    yes    yes     no   \n",
       "1  Allora, riepiloghiamo;\\nAi politici la pension...     no    yes    yes   \n",
       "2  Caro @INPS_it e cari @Europarl_IT  fate bene i...     no    yes    yes   \n",
       "3  FOTO - A #napoli, dopo l'apertura di una #vora...     no    yes     no   \n",
       "4  Maxi esercitazione di #protezionecivile. Lo sc...     no    yes     no   \n",
       "\n",
       "  Neg_SS Neut_GS Neut_SS Irony  \n",
       "0    yes      no      no    no  \n",
       "1    yes      no      no   yes  \n",
       "2     no      no      no   yes  \n",
       "3     no     yes      no    no  \n",
       "4    yes     yes      no    no  "
      ]
     },
     "execution_count": 10,
     "metadata": {},
     "output_type": "execute_result"
    }
   ],
   "source": [
    "val.head()"
   ]
  },
  {
   "cell_type": "markdown",
   "metadata": {},
   "source": [
    "### Metrics\n",
    "#### Positive"
   ]
  },
  {
   "cell_type": "code",
   "execution_count": null,
   "metadata": {},
   "outputs": [],
   "source": [
    "from sklearn.metrics import f1_score, precision_score, recall_score, accuracy_score\n",
    "\n",
    "print(\"P: \",precision_score(val['Pos_GS'],val['Pos_SS'],labels=['yes','no'],pos_label='yes'))\n",
    "print(\"R: \",recall_score(val['Pos_GS'],val['Pos_SS'],labels=['yes','no'],pos_label='yes'))\n",
    "print(\"F: \",f1_score(val['Pos_GS'],val['Pos_SS'],labels=['yes','no'],pos_label='yes'))"
   ]
  },
  {
   "cell_type": "markdown",
   "metadata": {},
   "source": [
    "#### Negative"
   ]
  },
  {
   "cell_type": "code",
   "execution_count": null,
   "metadata": {},
   "outputs": [],
   "source": [
    "print(\"P: \",precision_score(val['Neg_GS'],val['Neg_SS'],labels=['yes','no'],pos_label='yes'))\n",
    "print(\"R: \",recall_score(val['Neg_GS'],val['Neg_SS'],labels=['yes','no'],pos_label='yes'))\n",
    "print(\"F: \",f1_score(val['Neg_GS'],val['Neg_SS'],labels=['yes','no'],pos_label='yes'))"
   ]
  },
  {
   "cell_type": "markdown",
   "metadata": {},
   "source": [
    "#### Neutral"
   ]
  },
  {
   "cell_type": "code",
   "execution_count": null,
   "metadata": {},
   "outputs": [],
   "source": [
    "print(\"P: \",precision_score(val['Neut_GS'],val['Neut_SS'],labels=['yes','no'],pos_label='yes'))\n",
    "print(\"R: \",recall_score(val['Neut_GS'],val['Neut_SS'],labels=['yes','no'],pos_label='yes'))\n",
    "print(\"F: \",f1_score(val['Neut_GS'],val['Neut_SS'],labels=['yes','no'],pos_label='yes'))"
   ]
  },
  {
   "cell_type": "markdown",
   "metadata": {},
   "source": [
    "## SentiPolc"
   ]
  },
  {
   "cell_type": "code",
   "execution_count": 88,
   "metadata": {},
   "outputs": [],
   "source": [
    "FileToClassify = \"/content/Benchmark_sentimentAnalysis_ITA/data/external/SentiStrenght/In_Out/sp.txt\"\n",
    "if not os.path.isfile(FileToClassify):\n",
    "    print(\"File to classify not found at: \", FileToClassify)"
   ]
  },
  {
   "cell_type": "code",
   "execution_count": null,
   "metadata": {},
   "outputs": [],
   "source": [
    "print(\"Running SentiStrength on file \" + FileToClassify + \" with command:\")\n",
    "cmd = 'java -jar \"' + SentiStrengthLocation + '\" sentidata \"' + SentiStrengthLanguageFolder + '\" input \"' + FileToClassify + '\"'\n",
    "print(cmd)\n",
    "p = subprocess.Popen(shlex.split(cmd),stdin=subprocess.PIPE,stdout=subprocess.PIPE,stderr=subprocess.PIPE)\n",
    "classifiedSentimentFile = os.path.splitext(FileToClassify)[0] + \"0_out.txt\"\n",
    "print(\"Finished! The results will be in:/n\" + classifiedSentimentFile)"
   ]
  },
  {
   "cell_type": "markdown",
   "metadata": {},
   "source": [
    "### Results"
   ]
  },
  {
   "cell_type": "code",
   "execution_count": 99,
   "metadata": {},
   "outputs": [
    {
     "data": {
      "text/html": [
       "<div>\n",
       "<style scoped>\n",
       "    .dataframe tbody tr th:only-of-type {\n",
       "        vertical-align: middle;\n",
       "    }\n",
       "\n",
       "    .dataframe tbody tr th {\n",
       "        vertical-align: top;\n",
       "    }\n",
       "\n",
       "    .dataframe thead th {\n",
       "        text-align: right;\n",
       "    }\n",
       "</style>\n",
       "<table border=\"1\" class=\"dataframe\">\n",
       "  <thead>\n",
       "    <tr style=\"text-align: right;\">\n",
       "      <th></th>\n",
       "      <th>Positive</th>\n",
       "      <th>Negative</th>\n",
       "      <th>Text</th>\n",
       "    </tr>\n",
       "  </thead>\n",
       "  <tbody>\n",
       "    <tr>\n",
       "      <th>0</th>\n",
       "      <td>1</td>\n",
       "      <td>-2</td>\n",
       "      <td>intanto_adv partita via nazionale_adj complica...</td>\n",
       "    </tr>\n",
       "    <tr>\n",
       "      <th>1</th>\n",
       "      <td>1</td>\n",
       "      <td>-5</td>\n",
       "      <td>falso_adj illusione_noun sgradevole_adj realtÃ...</td>\n",
       "    </tr>\n",
       "    <tr>\n",
       "      <th>2</th>\n",
       "      <td>1</td>\n",
       "      <td>-5</td>\n",
       "      <td>falso_adj illusione_noun sgradevole_adj realtÃ...</td>\n",
       "    </tr>\n",
       "    <tr>\n",
       "      <th>3</th>\n",
       "      <td>2</td>\n",
       "      <td>-3</td>\n",
       "      <td>mario monte berlusconi risparmio_noun italia b...</td>\n",
       "    </tr>\n",
       "    <tr>\n",
       "      <th>4</th>\n",
       "      <td>2</td>\n",
       "      <td>-3</td>\n",
       "      <td>mario monte berlusconi risparmio_noun italia b...</td>\n",
       "    </tr>\n",
       "  </tbody>\n",
       "</table>\n",
       "</div>"
      ],
      "text/plain": [
       "   Positive  Negative                                               Text\n",
       "0         1        -2  intanto_adv partita via nazionale_adj complica...\n",
       "1         1        -5  falso_adj illusione_noun sgradevole_adj realtÃ...\n",
       "2         1        -5  falso_adj illusione_noun sgradevole_adj realtÃ...\n",
       "3         2        -3  mario monte berlusconi risparmio_noun italia b...\n",
       "4         2        -3  mario monte berlusconi risparmio_noun italia b..."
      ]
     },
     "execution_count": 99,
     "metadata": {},
     "output_type": "execute_result"
    }
   ],
   "source": [
    "sp_out = pd.read_csv(\"/content/Benchmark_sentimentAnalysis_ITA/data/external/SentiStrenght/In_Out/sp0_out.txt\",sep='\\t',encoding='latin-1')\n",
    "sp_out.head()"
   ]
  },
  {
   "cell_type": "code",
   "execution_count": 100,
   "metadata": {},
   "outputs": [],
   "source": [
    "#Reset index to join dataframes\n",
    "sp_out=sp_out.reset_index()\n",
    "gs2=gs2.reset_index()\n",
    "#Mapping SentiStrenght scores to sentiment classes\n",
    "sp_out.loc[sp_out['Positive'] > 1, 'Pos_SS'] = 'yes'\n",
    "sp_out.loc[sp_out['Negative'] < -1, 'Neg_SS'] = 'yes'\n",
    "sp_out.loc[(sp_out['Positive'] <= 1)&(sp_out['Negative'] >= -1) , 'Neut_SS'] = 'yes'\n",
    "\n",
    "#Mapping SentiPolc scores to sentiment classes\n",
    "gs2.loc[gs2['opos'] ==1, 'Pos_GS'] = 'yes'\n",
    "gs2.loc[gs2['oneg'] ==1, 'Neg_GS'] = 'yes'\n",
    "gs2.loc[(gs2['opos'] ==0) & (gs2['oneg'] ==0), 'Neut_GS'] = 'yes'\n",
    "gs2 = gs2.fillna(\"no\")\n",
    "\n",
    "#Join dataframes\n",
    "val = gs2.merge(sp_out, how='inner', on='index')\n",
    "val = val.fillna(\"no\")\n",
    "val = val[['idTwitter','text','Pos_GS','Pos_SS', 'Neg_GS','Neg_SS', 'Neut_GS','Neut_SS','iro']]"
   ]
  },
  {
   "cell_type": "markdown",
   "metadata": {},
   "source": [
    "### Metrics"
   ]
  },
  {
   "cell_type": "markdown",
   "metadata": {},
   "source": [
    "#### Positive"
   ]
  },
  {
   "cell_type": "code",
   "execution_count": null,
   "metadata": {},
   "outputs": [],
   "source": [
    "from sklearn.metrics import f1_score, precision_score, recall_score, accuracy_score\n",
    "\n",
    "print(precision_score(val['Pos_GS'],val['Pos_SS'],labels=['yes','no'],pos_label='yes'))\n",
    "print(recall_score(val['Pos_GS'],val['Pos_SS'],labels=['yes','no'],pos_label='yes'))\n",
    "print(f1_score(val['Pos_GS'],val['Pos_SS'],labels=['yes','no'],pos_label='yes'))"
   ]
  },
  {
   "cell_type": "markdown",
   "metadata": {},
   "source": [
    "#### Negative"
   ]
  },
  {
   "cell_type": "code",
   "execution_count": null,
   "metadata": {},
   "outputs": [],
   "source": [
    "print(precision_score(val['Neg_GS'],val['Neg_SS'],labels=['yes','no'],pos_label='yes'))\n",
    "print(recall_score(val['Neg_GS'],val['Neg_SS'],labels=['yes','no'],pos_label='yes'))\n",
    "print(f1_score(val['Neg_GS'],val['Neg_SS'],labels=['yes','no'],pos_label='yes'))"
   ]
  },
  {
   "cell_type": "markdown",
   "metadata": {},
   "source": [
    "#### Neutral"
   ]
  },
  {
   "cell_type": "code",
   "execution_count": null,
   "metadata": {},
   "outputs": [],
   "source": [
    "print(precision_score(val['Neut_GS'],val['Neut_SS'],labels=['yes','no'],pos_label='yes'))\n",
    "print(recall_score(val['Neut_GS'],val['Neut_SS'],labels=['yes','no'],pos_label='yes'))\n",
    "print(f1_score(val['Neut_GS'],val['Neut_SS'],labels=['yes','no'],pos_label='yes'))"
   ]
  }
 ],
 "metadata": {
  "interpreter": {
   "hash": "0216e7fa59ed86e14cdc7a57f9d3259f4414d5aa7b659545cb88f61ffb52a1e2"
  },
  "kernelspec": {
   "display_name": "Python 3.9.7 ('sa')",
   "language": "python",
   "name": "python3"
  },
  "language_info": {
   "codemirror_mode": {
    "name": "ipython",
    "version": 3
   },
   "file_extension": ".py",
   "mimetype": "text/x-python",
   "name": "python",
   "nbconvert_exporter": "python",
   "pygments_lexer": "ipython3",
   "version": "3.9.7"
  },
  "orig_nbformat": 4
 },
 "nbformat": 4,
 "nbformat_minor": 2
}
